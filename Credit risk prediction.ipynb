{
 "cells": [
  {
   "cell_type": "code",
   "execution_count": 1,
   "metadata": {},
   "outputs": [],
   "source": [
    "import numpy as np\n",
    "import pandas as pd\n",
    "import seaborn as sns\n",
    "import matplotlib.pyplot as plt"
   ]
  },
  {
   "cell_type": "code",
   "execution_count": 2,
   "metadata": {
    "scrolled": true
   },
   "outputs": [
    {
     "data": {
      "text/html": [
       "<div>\n",
       "<style scoped>\n",
       "    .dataframe tbody tr th:only-of-type {\n",
       "        vertical-align: middle;\n",
       "    }\n",
       "\n",
       "    .dataframe tbody tr th {\n",
       "        vertical-align: top;\n",
       "    }\n",
       "\n",
       "    .dataframe thead th {\n",
       "        text-align: right;\n",
       "    }\n",
       "</style>\n",
       "<table border=\"1\" class=\"dataframe\">\n",
       "  <thead>\n",
       "    <tr style=\"text-align: right;\">\n",
       "      <th></th>\n",
       "      <th>Id</th>\n",
       "      <th>income</th>\n",
       "      <th>age</th>\n",
       "      <th>experience</th>\n",
       "      <th>married</th>\n",
       "      <th>house_ownership</th>\n",
       "      <th>car_ownership</th>\n",
       "      <th>profession</th>\n",
       "      <th>city</th>\n",
       "      <th>state</th>\n",
       "      <th>current_job_years</th>\n",
       "      <th>current_house_years</th>\n",
       "      <th>risk_flag</th>\n",
       "    </tr>\n",
       "  </thead>\n",
       "  <tbody>\n",
       "    <tr>\n",
       "      <th>0</th>\n",
       "      <td>1</td>\n",
       "      <td>1303835</td>\n",
       "      <td>23</td>\n",
       "      <td>3</td>\n",
       "      <td>single</td>\n",
       "      <td>rented</td>\n",
       "      <td>no</td>\n",
       "      <td>Mechanical_engineer</td>\n",
       "      <td>Rewa</td>\n",
       "      <td>Madhya_Pradesh</td>\n",
       "      <td>3</td>\n",
       "      <td>13</td>\n",
       "      <td>0</td>\n",
       "    </tr>\n",
       "    <tr>\n",
       "      <th>1</th>\n",
       "      <td>2</td>\n",
       "      <td>7574516</td>\n",
       "      <td>40</td>\n",
       "      <td>10</td>\n",
       "      <td>single</td>\n",
       "      <td>rented</td>\n",
       "      <td>no</td>\n",
       "      <td>Software_Developer</td>\n",
       "      <td>Parbhani</td>\n",
       "      <td>Maharashtra</td>\n",
       "      <td>9</td>\n",
       "      <td>13</td>\n",
       "      <td>0</td>\n",
       "    </tr>\n",
       "    <tr>\n",
       "      <th>2</th>\n",
       "      <td>3</td>\n",
       "      <td>3991815</td>\n",
       "      <td>66</td>\n",
       "      <td>4</td>\n",
       "      <td>married</td>\n",
       "      <td>rented</td>\n",
       "      <td>no</td>\n",
       "      <td>Technical_writer</td>\n",
       "      <td>Alappuzha</td>\n",
       "      <td>Kerala</td>\n",
       "      <td>4</td>\n",
       "      <td>10</td>\n",
       "      <td>0</td>\n",
       "    </tr>\n",
       "    <tr>\n",
       "      <th>3</th>\n",
       "      <td>4</td>\n",
       "      <td>6256451</td>\n",
       "      <td>41</td>\n",
       "      <td>2</td>\n",
       "      <td>single</td>\n",
       "      <td>rented</td>\n",
       "      <td>yes</td>\n",
       "      <td>Software_Developer</td>\n",
       "      <td>Bhubaneswar</td>\n",
       "      <td>Odisha</td>\n",
       "      <td>2</td>\n",
       "      <td>12</td>\n",
       "      <td>1</td>\n",
       "    </tr>\n",
       "    <tr>\n",
       "      <th>4</th>\n",
       "      <td>5</td>\n",
       "      <td>5768871</td>\n",
       "      <td>47</td>\n",
       "      <td>11</td>\n",
       "      <td>single</td>\n",
       "      <td>rented</td>\n",
       "      <td>no</td>\n",
       "      <td>Civil_servant</td>\n",
       "      <td>Tiruchirappalli[10]</td>\n",
       "      <td>Tamil_Nadu</td>\n",
       "      <td>3</td>\n",
       "      <td>14</td>\n",
       "      <td>1</td>\n",
       "    </tr>\n",
       "  </tbody>\n",
       "</table>\n",
       "</div>"
      ],
      "text/plain": [
       "   Id   income  age  experience  married house_ownership car_ownership  \\\n",
       "0   1  1303835   23           3   single          rented            no   \n",
       "1   2  7574516   40          10   single          rented            no   \n",
       "2   3  3991815   66           4  married          rented            no   \n",
       "3   4  6256451   41           2   single          rented           yes   \n",
       "4   5  5768871   47          11   single          rented            no   \n",
       "\n",
       "            profession                 city           state  \\\n",
       "0  Mechanical_engineer                 Rewa  Madhya_Pradesh   \n",
       "1   Software_Developer             Parbhani     Maharashtra   \n",
       "2     Technical_writer            Alappuzha          Kerala   \n",
       "3   Software_Developer          Bhubaneswar          Odisha   \n",
       "4        Civil_servant  Tiruchirappalli[10]      Tamil_Nadu   \n",
       "\n",
       "   current_job_years  current_house_years  risk_flag  \n",
       "0                  3                   13          0  \n",
       "1                  9                   13          0  \n",
       "2                  4                   10          0  \n",
       "3                  2                   12          1  \n",
       "4                  3                   14          1  "
      ]
     },
     "execution_count": 2,
     "metadata": {},
     "output_type": "execute_result"
    }
   ],
   "source": [
    "train = pd.read_csv('Training Data.csv')\n",
    "train.head()"
   ]
  },
  {
   "cell_type": "code",
   "execution_count": 3,
   "metadata": {},
   "outputs": [
    {
     "name": "stdout",
     "output_type": "stream",
     "text": [
      "<class 'pandas.core.frame.DataFrame'>\n",
      "RangeIndex: 252000 entries, 0 to 251999\n",
      "Data columns (total 13 columns):\n",
      " #   Column               Non-Null Count   Dtype \n",
      "---  ------               --------------   ----- \n",
      " 0   Id                   252000 non-null  int64 \n",
      " 1   income               252000 non-null  int64 \n",
      " 2   age                  252000 non-null  int64 \n",
      " 3   experience           252000 non-null  int64 \n",
      " 4   married              252000 non-null  object\n",
      " 5   house_ownership      252000 non-null  object\n",
      " 6   car_ownership        252000 non-null  object\n",
      " 7   profession           252000 non-null  object\n",
      " 8   city                 252000 non-null  object\n",
      " 9   state                252000 non-null  object\n",
      " 10  current_job_years    252000 non-null  int64 \n",
      " 11  current_house_years  252000 non-null  int64 \n",
      " 12  risk_flag            252000 non-null  int64 \n",
      "dtypes: int64(7), object(6)\n",
      "memory usage: 25.0+ MB\n"
     ]
    }
   ],
   "source": [
    "train.info() # have no missing values"
   ]
  },
  {
   "cell_type": "code",
   "execution_count": 4,
   "metadata": {},
   "outputs": [],
   "source": [
    "train.drop(columns={'Id'}, inplace=True) # drop useless column"
   ]
  },
  {
   "cell_type": "code",
   "execution_count": 5,
   "metadata": {},
   "outputs": [
    {
     "data": {
      "text/plain": [
       "income                 0\n",
       "age                    0\n",
       "experience             0\n",
       "married                0\n",
       "house_ownership        0\n",
       "car_ownership          0\n",
       "profession             0\n",
       "city                   0\n",
       "state                  0\n",
       "current_job_years      0\n",
       "current_house_years    0\n",
       "risk_flag              0\n",
       "dtype: int64"
      ]
     },
     "execution_count": 5,
     "metadata": {},
     "output_type": "execute_result"
    }
   ],
   "source": [
    "train.isnull().sum() # no nan values"
   ]
  },
  {
   "cell_type": "code",
   "execution_count": 6,
   "metadata": {
    "scrolled": true
   },
   "outputs": [
    {
     "data": {
      "text/plain": [
       "single     226272\n",
       "married     25728\n",
       "Name: married, dtype: int64"
      ]
     },
     "execution_count": 6,
     "metadata": {},
     "output_type": "execute_result"
    }
   ],
   "source": [
    "train.married.value_counts() #imbalanced married column"
   ]
  },
  {
   "cell_type": "code",
   "execution_count": 7,
   "metadata": {},
   "outputs": [
    {
     "data": {
      "text/plain": [
       "<AxesSubplot:xlabel='married', ylabel='count'>"
      ]
     },
     "execution_count": 7,
     "metadata": {},
     "output_type": "execute_result"
    },
    {
     "data": {
      "image/png": "[encoded data removed]",
      "text/plain": [
       "<Figure size 432x288 with 1 Axes>"
      ]
     },
     "metadata": {
      "needs_background": "light"
     },
     "output_type": "display_data"
    }
   ],
   "source": [
    "sns.countplot(x='married', data=train)"
   ]
  },
  {
   "cell_type": "code",
   "execution_count": 8,
   "metadata": {},
   "outputs": [
    {
     "data": {
      "text/plain": [
       "<AxesSubplot:xlabel='married', ylabel='count'>"
      ]
     },
     "execution_count": 8,
     "metadata": {},
     "output_type": "execute_result"
    },
    {
     "data": {
      "image/png": "[encoded data removed]",
      "text/plain": [
       "<Figure size 432x288 with 1 Axes>"
      ]
     },
     "metadata": {
      "needs_background": "light"
     },
     "output_type": "display_data"
    }
   ],
   "source": [
    "sns.countplot(x='married', hue='house_ownership', data=train) # in dataset there is majority of who is single and rent house"
   ]
  },
  {
   "cell_type": "code",
   "execution_count": 9,
   "metadata": {
    "scrolled": true
   },
   "outputs": [
    {
     "data": {
      "text/plain": [
       "rented          231898\n",
       "owned            12918\n",
       "norent_noown      7184\n",
       "Name: house_ownership, dtype: int64"
      ]
     },
     "execution_count": 9,
     "metadata": {},
     "output_type": "execute_result"
    }
   ],
   "source": [
    "train.house_ownership.value_counts() #three types of house ownershipping"
   ]
  },
  {
   "cell_type": "code",
   "execution_count": 10,
   "metadata": {},
   "outputs": [
    {
     "data": {
      "text/plain": [
       "([<matplotlib.patches.Wedge at 0x240c2b29b50>,\n",
       "  <matplotlib.patches.Wedge at 0x240c2b29fd0>,\n",
       "  <matplotlib.patches.Wedge at 0x240c2b394f0>],\n",
       " [Text(-1.0656389922568725, 0.27278844950209524, 'rented'),\n",
       "  Text(1.0369696920508071, -0.36700661815293545, 'owned'),\n",
       "  Text(1.09559136493431, -0.09838476041224982, 'norent_noown')])"
      ]
     },
     "execution_count": 10,
     "metadata": {},
     "output_type": "execute_result"
    },
    {
     "data": {
      "image/png": "[encoded data removed]",
      "text/plain": [
       "<Figure size 432x288 with 1 Axes>"
      ]
     },
     "metadata": {},
     "output_type": "display_data"
    }
   ],
   "source": [
    "labels = ['rented', 'owned', 'norent_noown']\n",
    "data=[231898, 12918, 7184]\n",
    "\n",
    "plt.pie(data, labels=labels, colors = sns.color_palette('pastel')[2:5])"
   ]
  },
  {
   "cell_type": "code",
   "execution_count": 11,
   "metadata": {},
   "outputs": [
    {
     "data": {
      "text/plain": [
       "no     176000\n",
       "yes     76000\n",
       "Name: car_ownership, dtype: int64"
      ]
     },
     "execution_count": 11,
     "metadata": {},
     "output_type": "execute_result"
    }
   ],
   "source": [
    "train.car_ownership.value_counts()"
   ]
  },
  {
   "cell_type": "code",
   "execution_count": 12,
   "metadata": {},
   "outputs": [
    {
     "data": {
      "text/plain": [
       "<AxesSubplot:xlabel='car_ownership', ylabel='count'>"
      ]
     },
     "execution_count": 12,
     "metadata": {},
     "output_type": "execute_result"
    },
    {
     "data": {
      "image/png": "[encoded data removed]",
      "text/plain": [
       "<Figure size 432x288 with 1 Axes>"
      ]
     },
     "metadata": {
      "needs_background": "light"
     },
     "output_type": "display_data"
    }
   ],
   "source": [
    "sns.countplot(x='car_ownership', hue='married', data=train)"
   ]
  },
  {
   "cell_type": "code",
   "execution_count": 13,
   "metadata": {},
   "outputs": [
    {
     "data": {
      "text/plain": [
       "29.994558457711445"
      ]
     },
     "execution_count": 13,
     "metadata": {},
     "output_type": "execute_result"
    }
   ],
   "source": [
    "married = len(train[(train.married == 'married')]) # percentage of who have car among married\n",
    "len(train[(train.married == 'married') & (train.car_ownership == 'yes')]) / married * 100 "
   ]
  },
  {
   "cell_type": "code",
   "execution_count": 14,
   "metadata": {},
   "outputs": [
    {
     "data": {
      "text/plain": [
       "30.177397114976667"
      ]
     },
     "execution_count": 14,
     "metadata": {},
     "output_type": "execute_result"
    }
   ],
   "source": [
    "single = len(train.car_ownership[(train.married == 'single')]) # percentage of who have car among single\n",
    "len(train[(train.married == 'single') & (train.car_ownership == 'yes')]) / single * 100\n",
    "\n",
    "#their percentage are same"
   ]
  },
  {
   "cell_type": "code",
   "execution_count": 15,
   "metadata": {},
   "outputs": [],
   "source": [
    "train.loc[train.married == 'married', 'married'] = 1 # label encoding\n",
    "train.loc[train.married == 'single', 'married'] = 0"
   ]
  },
  {
   "cell_type": "code",
   "execution_count": 16,
   "metadata": {},
   "outputs": [],
   "source": [
    "train.loc[train.house_ownership == 'norent_noown', 'house_ownership'] = 0 # label encoding\n",
    "train.loc[train.house_ownership == 'rented', 'house_ownership'] = 1\n",
    "train.loc[train.house_ownership == 'owned', 'house_ownership'] = 2"
   ]
  },
  {
   "cell_type": "code",
   "execution_count": 17,
   "metadata": {},
   "outputs": [],
   "source": [
    "train.loc[train.car_ownership == 'yes', 'car_ownership'] = 1 # label encoding\n",
    "train.loc[train.car_ownership == 'no', 'car_ownership'] = 0"
   ]
  },
  {
   "cell_type": "code",
   "execution_count": 18,
   "metadata": {},
   "outputs": [],
   "source": [
    "train.married = train.married.astype(int) #just change type\n",
    "train.house_ownership = train.house_ownership.astype(int)\n",
    "train.car_ownership = train.car_ownership.astype(int)"
   ]
  },
  {
   "cell_type": "code",
   "execution_count": 19,
   "metadata": {},
   "outputs": [
    {
     "data": {
      "text/html": [
       "<div>\n",
       "<style scoped>\n",
       "    .dataframe tbody tr th:only-of-type {\n",
       "        vertical-align: middle;\n",
       "    }\n",
       "\n",
       "    .dataframe tbody tr th {\n",
       "        vertical-align: top;\n",
       "    }\n",
       "\n",
       "    .dataframe thead th {\n",
       "        text-align: right;\n",
       "    }\n",
       "</style>\n",
       "<table border=\"1\" class=\"dataframe\">\n",
       "  <thead>\n",
       "    <tr style=\"text-align: right;\">\n",
       "      <th></th>\n",
       "      <th>income</th>\n",
       "      <th>age</th>\n",
       "      <th>experience</th>\n",
       "      <th>married</th>\n",
       "      <th>house_ownership</th>\n",
       "      <th>car_ownership</th>\n",
       "      <th>profession</th>\n",
       "      <th>city</th>\n",
       "      <th>state</th>\n",
       "      <th>current_job_years</th>\n",
       "      <th>current_house_years</th>\n",
       "      <th>risk_flag</th>\n",
       "    </tr>\n",
       "  </thead>\n",
       "  <tbody>\n",
       "    <tr>\n",
       "      <th>0</th>\n",
       "      <td>1303835</td>\n",
       "      <td>23</td>\n",
       "      <td>3</td>\n",
       "      <td>0</td>\n",
       "      <td>1</td>\n",
       "      <td>0</td>\n",
       "      <td>Mechanical_engineer</td>\n",
       "      <td>Rewa</td>\n",
       "      <td>Madhya_Pradesh</td>\n",
       "      <td>3</td>\n",
       "      <td>13</td>\n",
       "      <td>0</td>\n",
       "    </tr>\n",
       "    <tr>\n",
       "      <th>1</th>\n",
       "      <td>7574516</td>\n",
       "      <td>40</td>\n",
       "      <td>10</td>\n",
       "      <td>0</td>\n",
       "      <td>1</td>\n",
       "      <td>0</td>\n",
       "      <td>Software_Developer</td>\n",
       "      <td>Parbhani</td>\n",
       "      <td>Maharashtra</td>\n",
       "      <td>9</td>\n",
       "      <td>13</td>\n",
       "      <td>0</td>\n",
       "    </tr>\n",
       "    <tr>\n",
       "      <th>2</th>\n",
       "      <td>3991815</td>\n",
       "      <td>66</td>\n",
       "      <td>4</td>\n",
       "      <td>1</td>\n",
       "      <td>1</td>\n",
       "      <td>0</td>\n",
       "      <td>Technical_writer</td>\n",
       "      <td>Alappuzha</td>\n",
       "      <td>Kerala</td>\n",
       "      <td>4</td>\n",
       "      <td>10</td>\n",
       "      <td>0</td>\n",
       "    </tr>\n",
       "    <tr>\n",
       "      <th>3</th>\n",
       "      <td>6256451</td>\n",
       "      <td>41</td>\n",
       "      <td>2</td>\n",
       "      <td>0</td>\n",
       "      <td>1</td>\n",
       "      <td>1</td>\n",
       "      <td>Software_Developer</td>\n",
       "      <td>Bhubaneswar</td>\n",
       "      <td>Odisha</td>\n",
       "      <td>2</td>\n",
       "      <td>12</td>\n",
       "      <td>1</td>\n",
       "    </tr>\n",
       "    <tr>\n",
       "      <th>4</th>\n",
       "      <td>5768871</td>\n",
       "      <td>47</td>\n",
       "      <td>11</td>\n",
       "      <td>0</td>\n",
       "      <td>1</td>\n",
       "      <td>0</td>\n",
       "      <td>Civil_servant</td>\n",
       "      <td>Tiruchirappalli[10]</td>\n",
       "      <td>Tamil_Nadu</td>\n",
       "      <td>3</td>\n",
       "      <td>14</td>\n",
       "      <td>1</td>\n",
       "    </tr>\n",
       "    <tr>\n",
       "      <th>...</th>\n",
       "      <td>...</td>\n",
       "      <td>...</td>\n",
       "      <td>...</td>\n",
       "      <td>...</td>\n",
       "      <td>...</td>\n",
       "      <td>...</td>\n",
       "      <td>...</td>\n",
       "      <td>...</td>\n",
       "      <td>...</td>\n",
       "      <td>...</td>\n",
       "      <td>...</td>\n",
       "      <td>...</td>\n",
       "    </tr>\n",
       "    <tr>\n",
       "      <th>251995</th>\n",
       "      <td>8154883</td>\n",
       "      <td>43</td>\n",
       "      <td>13</td>\n",
       "      <td>0</td>\n",
       "      <td>1</td>\n",
       "      <td>0</td>\n",
       "      <td>Surgeon</td>\n",
       "      <td>Kolkata</td>\n",
       "      <td>West_Bengal</td>\n",
       "      <td>6</td>\n",
       "      <td>11</td>\n",
       "      <td>0</td>\n",
       "    </tr>\n",
       "    <tr>\n",
       "      <th>251996</th>\n",
       "      <td>2843572</td>\n",
       "      <td>26</td>\n",
       "      <td>10</td>\n",
       "      <td>0</td>\n",
       "      <td>1</td>\n",
       "      <td>0</td>\n",
       "      <td>Army_officer</td>\n",
       "      <td>Rewa</td>\n",
       "      <td>Madhya_Pradesh</td>\n",
       "      <td>6</td>\n",
       "      <td>11</td>\n",
       "      <td>0</td>\n",
       "    </tr>\n",
       "    <tr>\n",
       "      <th>251997</th>\n",
       "      <td>4522448</td>\n",
       "      <td>46</td>\n",
       "      <td>7</td>\n",
       "      <td>0</td>\n",
       "      <td>1</td>\n",
       "      <td>0</td>\n",
       "      <td>Design_Engineer</td>\n",
       "      <td>Kalyan-Dombivli</td>\n",
       "      <td>Maharashtra</td>\n",
       "      <td>7</td>\n",
       "      <td>12</td>\n",
       "      <td>0</td>\n",
       "    </tr>\n",
       "    <tr>\n",
       "      <th>251998</th>\n",
       "      <td>6507128</td>\n",
       "      <td>45</td>\n",
       "      <td>0</td>\n",
       "      <td>0</td>\n",
       "      <td>1</td>\n",
       "      <td>0</td>\n",
       "      <td>Graphic_Designer</td>\n",
       "      <td>Pondicherry</td>\n",
       "      <td>Puducherry</td>\n",
       "      <td>0</td>\n",
       "      <td>10</td>\n",
       "      <td>0</td>\n",
       "    </tr>\n",
       "    <tr>\n",
       "      <th>251999</th>\n",
       "      <td>9070230</td>\n",
       "      <td>70</td>\n",
       "      <td>17</td>\n",
       "      <td>0</td>\n",
       "      <td>1</td>\n",
       "      <td>0</td>\n",
       "      <td>Statistician</td>\n",
       "      <td>Avadi</td>\n",
       "      <td>Tamil_Nadu</td>\n",
       "      <td>7</td>\n",
       "      <td>11</td>\n",
       "      <td>0</td>\n",
       "    </tr>\n",
       "  </tbody>\n",
       "</table>\n",
       "<p>252000 rows × 12 columns</p>\n",
       "</div>"
      ],
      "text/plain": [
       "         income  age  experience  married  house_ownership  car_ownership  \\\n",
       "0       1303835   23           3        0                1              0   \n",
       "1       7574516   40          10        0                1              0   \n",
       "2       3991815   66           4        1                1              0   \n",
       "3       6256451   41           2        0                1              1   \n",
       "4       5768871   47          11        0                1              0   \n",
       "...         ...  ...         ...      ...              ...            ...   \n",
       "251995  8154883   43          13        0                1              0   \n",
       "251996  2843572   26          10        0                1              0   \n",
       "251997  4522448   46           7        0                1              0   \n",
       "251998  6507128   45           0        0                1              0   \n",
       "251999  9070230   70          17        0                1              0   \n",
       "\n",
       "                 profession                 city           state  \\\n",
       "0       Mechanical_engineer                 Rewa  Madhya_Pradesh   \n",
       "1        Software_Developer             Parbhani     Maharashtra   \n",
       "2          Technical_writer            Alappuzha          Kerala   \n",
       "3        Software_Developer          Bhubaneswar          Odisha   \n",
       "4             Civil_servant  Tiruchirappalli[10]      Tamil_Nadu   \n",
       "...                     ...                  ...             ...   \n",
       "251995              Surgeon              Kolkata     West_Bengal   \n",
       "251996         Army_officer                 Rewa  Madhya_Pradesh   \n",
       "251997      Design_Engineer      Kalyan-Dombivli     Maharashtra   \n",
       "251998     Graphic_Designer          Pondicherry      Puducherry   \n",
       "251999         Statistician                Avadi      Tamil_Nadu   \n",
       "\n",
       "        current_job_years  current_house_years  risk_flag  \n",
       "0                       3                   13          0  \n",
       "1                       9                   13          0  \n",
       "2                       4                   10          0  \n",
       "3                       2                   12          1  \n",
       "4                       3                   14          1  \n",
       "...                   ...                  ...        ...  \n",
       "251995                  6                   11          0  \n",
       "251996                  6                   11          0  \n",
       "251997                  7                   12          0  \n",
       "251998                  0                   10          0  \n",
       "251999                  7                   11          0  \n",
       "\n",
       "[252000 rows x 12 columns]"
      ]
     },
     "execution_count": 19,
     "metadata": {},
     "output_type": "execute_result"
    }
   ],
   "source": [
    "train"
   ]
  },
  {
   "cell_type": "code",
   "execution_count": 20,
   "metadata": {},
   "outputs": [
    {
     "data": {
      "text/plain": [
       "income                -0.003091\n",
       "age                   -0.021809\n",
       "experience            -0.034523\n",
       "married               -0.021092\n",
       "house_ownership       -0.011171\n",
       "car_ownership         -0.024036\n",
       "current_job_years     -0.016942\n",
       "current_house_years   -0.004375\n",
       "risk_flag              1.000000\n",
       "Name: risk_flag, dtype: float64"
      ]
     },
     "execution_count": 20,
     "metadata": {},
     "output_type": "execute_result"
    }
   ],
   "source": [
    "train.corr()['risk_flag']"
   ]
  },
  {
   "cell_type": "code",
   "execution_count": 21,
   "metadata": {},
   "outputs": [
    {
     "data": {
      "text/plain": [
       "Physician                     5957\n",
       "Statistician                  5806\n",
       "Web_designer                  5397\n",
       "Psychologist                  5390\n",
       "Computer_hardware_engineer    5372\n",
       "Drafter                       5359\n",
       "Magistrate                    5357\n",
       "Fashion_Designer              5304\n",
       "Air_traffic_controller        5281\n",
       "Comedian                      5259\n",
       "Industrial_Engineer           5250\n",
       "Mechanical_engineer           5217\n",
       "Chemical_engineer             5205\n",
       "Technical_writer              5195\n",
       "Hotel_Manager                 5178\n",
       "Financial_Analyst             5167\n",
       "Graphic_Designer              5166\n",
       "Flight_attendant              5128\n",
       "Biomedical_Engineer           5127\n",
       "Secretary                     5061\n",
       "Software_Developer            5053\n",
       "Petroleum_Engineer            5041\n",
       "Police_officer                5035\n",
       "Computer_operator             4990\n",
       "Politician                    4944\n",
       "Microbiologist                4881\n",
       "Technician                    4864\n",
       "Artist                        4861\n",
       "Lawyer                        4818\n",
       "Consultant                    4808\n",
       "Dentist                       4782\n",
       "Scientist                     4781\n",
       "Surgeon                       4772\n",
       "Aviator                       4758\n",
       "Technology_specialist         4737\n",
       "Design_Engineer               4729\n",
       "Surveyor                      4714\n",
       "Geologist                     4672\n",
       "Analyst                       4668\n",
       "Army_officer                  4661\n",
       "Architect                     4657\n",
       "Chef                          4635\n",
       "Librarian                     4628\n",
       "Civil_engineer                4616\n",
       "Designer                      4598\n",
       "Economist                     4573\n",
       "Firefighter                   4507\n",
       "Chartered_Accountant          4493\n",
       "Civil_servant                 4413\n",
       "Official                      4087\n",
       "Engineer                      4048\n",
       "Name: profession, dtype: int64"
      ]
     },
     "execution_count": 21,
     "metadata": {},
     "output_type": "execute_result"
    }
   ],
   "source": [
    "train.profession.value_counts()"
   ]
  },
  {
   "cell_type": "code",
   "execution_count": 22,
   "metadata": {},
   "outputs": [
    {
     "data": {
      "text/plain": [
       "51"
      ]
     },
     "execution_count": 22,
     "metadata": {},
     "output_type": "execute_result"
    }
   ],
   "source": [
    "train.profession.nunique() # we have 51 unique professions"
   ]
  },
  {
   "cell_type": "code",
   "execution_count": 23,
   "metadata": {},
   "outputs": [
    {
     "data": {
      "text/plain": [
       "array(['Rewa', 'Parbhani', 'Alappuzha', 'Bhubaneswar',\n",
       "       'Tiruchirappalli[10]', 'Jalgaon', 'Tiruppur', 'Jamnagar',\n",
       "       'Kota[6]', 'Karimnagar', 'Hajipur[31]', 'Adoni', 'Erode[17]',\n",
       "       'Kollam', 'Madurai', 'Anantapuram[24]', 'Kamarhati', 'Bhusawal',\n",
       "       'Sirsa', 'Amaravati', 'Secunderabad', 'Ahmedabad', 'Ajmer',\n",
       "       'Ongole', 'Miryalaguda', 'Ambattur', 'Indore', 'Pondicherry',\n",
       "       'Shimoga', 'Chennai', 'Gulbarga', 'Khammam', 'Saharanpur',\n",
       "       'Gopalpur', 'Amravati', 'Udupi', 'Howrah', 'Aurangabad[39]',\n",
       "       'Hospet', 'Shimla', 'Khandwa', 'Bidhannagar', 'Bellary', 'Danapur',\n",
       "       'Purnia[26]', 'Bijapur', 'Patiala', 'Malda', 'Sagar', 'Durgapur',\n",
       "       'Junagadh', 'Singrauli', 'Agartala', 'Thanjavur', 'Hindupur',\n",
       "       'Naihati', 'North_Dumdum', 'Panchkula', 'Anantapur', 'Serampore',\n",
       "       'Bathinda', 'Nadiad', 'Kanpur', 'Haridwar', 'Berhampur',\n",
       "       'Jamshedpur', 'Hyderabad', 'Bidar', 'Kottayam', 'Solapur',\n",
       "       'Suryapet', 'Aizawl', 'Asansol', 'Deoghar', 'Eluru[25]',\n",
       "       'Ulhasnagar', 'Aligarh', 'South_Dumdum', 'Berhampore',\n",
       "       'Gandhinagar', 'Sonipat', 'Muzaffarpur', 'Raichur',\n",
       "       'Rajpur_Sonarpur', 'Ambarnath', 'Katihar', 'Kozhikode', 'Vellore',\n",
       "       'Malegaon', 'Kochi', 'Nagaon', 'Nagpur', 'Srinagar', 'Davanagere',\n",
       "       'Bhagalpur', 'Siwan[32]', 'Meerut', 'Dindigul', 'Bhatpara',\n",
       "       'Ghaziabad', 'Kulti', 'Chapra', 'Dibrugarh', 'Panihati',\n",
       "       'Bhiwandi', 'Morbi', 'Kalyan-Dombivli', 'Gorakhpur', 'Panvel',\n",
       "       'Siliguri', 'Bongaigaon', 'Patna', 'Ramgarh', 'Ozhukarai',\n",
       "       'Mirzapur', 'Akola', 'Satna', 'Motihari[34]', 'Jalna', 'Jalandhar',\n",
       "       'Unnao', 'Karnal', 'Cuttack', 'Proddatur', 'Ichalkaranji',\n",
       "       'Warangal[11][12]', 'Jhansi', 'Bulandshahr', 'Narasaraopet',\n",
       "       'Chinsurah', 'Jehanabad[38]', 'Dhanbad', 'Gudivada', 'Gandhidham',\n",
       "       'Raiganj', 'Kishanganj[35]', 'Varanasi', 'Belgaum',\n",
       "       'Tirupati[21][22]', 'Tumkur', 'Coimbatore', 'Kurnool[18]',\n",
       "       'Gurgaon', 'Muzaffarnagar', 'Aurangabad', 'Bhavnagar', 'Arrah',\n",
       "       'Munger', 'Tirunelveli', 'Mumbai', 'Mango', 'Nashik', 'Kadapa[23]',\n",
       "       'Amritsar', 'Khora,_Ghaziabad', 'Ambala', 'Agra', 'Ratlam',\n",
       "       'Surendranagar_Dudhrej', 'Delhi_city', 'Bhopal', 'Hapur', 'Rohtak',\n",
       "       'Durg', 'Korba', 'Bangalore', 'Shivpuri', 'Thrissur',\n",
       "       'Vijayanagaram', 'Farrukhabad', 'Nangloi_Jat', 'Madanapalle',\n",
       "       'Thoothukudi', 'Nagercoil', 'Gaya', 'Chandigarh_city', 'Jammu[16]',\n",
       "       'Kakinada', 'Dewas', 'Bhalswa_Jahangir_Pur', 'Baranagar',\n",
       "       'Firozabad', 'Phusro', 'Allahabad', 'Guna', 'Thane', 'Etawah',\n",
       "       'Vasai-Virar', 'Pallavaram', 'Morena', 'Ballia', 'Surat',\n",
       "       'Burhanpur', 'Phagwara', 'Mau', 'Mangalore', 'Alwar',\n",
       "       'Mahbubnagar', 'Maheshtala', 'Hazaribagh', 'Bihar_Sharif',\n",
       "       'Faridabad', 'Lucknow', 'Tenali', 'Barasat', 'Amroha', 'Giridih',\n",
       "       'Begusarai', 'Medininagar', 'Rajahmundry[19][20]', 'Saharsa[29]',\n",
       "       'New_Delhi', 'Bhilai', 'Moradabad', 'Machilipatnam',\n",
       "       'Mira-Bhayandar', 'Pali', 'Navi_Mumbai', 'Mehsana', 'Imphal',\n",
       "       'Kolkata', 'Sambalpur', 'Ujjain', 'Madhyamgram', 'Jabalpur',\n",
       "       'Jamalpur[36]', 'Ludhiana', 'Bareilly', 'Gangtok', 'Anand',\n",
       "       'Dehradun', 'Pune', 'Satara', 'Srikakulam', 'Raipur', 'Jodhpur',\n",
       "       'Darbhanga', 'Nizamabad', 'Nandyal', 'Dehri[30]', 'Jorhat',\n",
       "       'Ranchi', 'Kumbakonam', 'Guntakal', 'Haldia', 'Loni',\n",
       "       'Pimpri-Chinchwad', 'Rajkot', 'Nanded', 'Noida',\n",
       "       'Kirari_Suleman_Nagar', 'Jaunpur', 'Bilaspur', 'Sambhal', 'Dhule',\n",
       "       'Rourkela', 'Thiruvananthapuram', 'Dharmavaram', 'Nellore[14][15]',\n",
       "       'Visakhapatnam[4]', 'Karawal_Nagar', 'Jaipur', 'Avadi',\n",
       "       'Bhimavaram', 'Bardhaman', 'Silchar', 'Buxar[37]', 'Kavali',\n",
       "       'Tezpur', 'Ramagundam[27]', 'Yamunanagar', 'Sri_Ganganagar',\n",
       "       'Sasaram[30]', 'Sikar', 'Bally', 'Bhiwani', 'Rampur', 'Uluberia',\n",
       "       'Sangli-Miraj_&_Kupwad', 'Hosur', 'Bikaner', 'Shahjahanpur',\n",
       "       'Sultan_Pur_Majra', 'Vijayawada', 'Bharatpur', 'Tadepalligudem',\n",
       "       'Tinsukia', 'Salem', 'Mathura', 'Guntur[13]', 'Hubliâ€“Dharwad',\n",
       "       'Guwahati', 'Chittoor[28]', 'Tiruvottiyur', 'Vadodara',\n",
       "       'Ahmednagar', 'Fatehpur', 'Bhilwara', 'Kharagpur', 'Bettiah[33]',\n",
       "       'Bhind', 'Bokaro', 'Karaikudi', 'Raebareli', 'Pudukkottai',\n",
       "       'Udaipur', 'Mysore[7][8][9]', 'Panipat', 'Latur', 'Tadipatri',\n",
       "       'Bahraich', 'Orai', 'Raurkela_Industrial_Township', 'Gwalior',\n",
       "       'Katni', 'Chandrapur', 'Kolhapur'], dtype=object)"
      ]
     },
     "execution_count": 23,
     "metadata": {},
     "output_type": "execute_result"
    }
   ],
   "source": [
    "train.city.unique() # some city names is incorrect"
   ]
  },
  {
   "cell_type": "code",
   "execution_count": 24,
   "metadata": {},
   "outputs": [],
   "source": [
    "train.loc[train.city.str.contains(']'), 'city'] = train.city[train.city.str.contains(']')].str.split('[').str[0] \n",
    "# normalize city names"
   ]
  },
  {
   "cell_type": "code",
   "execution_count": 25,
   "metadata": {
    "scrolled": true
   },
   "outputs": [
    {
     "data": {
      "text/plain": [
       "Aurangabad       1543\n",
       "Vijayanagaram    1259\n",
       "Bhopal           1208\n",
       "Bulandshahr      1185\n",
       "Saharsa          1180\n",
       "                 ... \n",
       "Ujjain            486\n",
       "Warangal          459\n",
       "Bettiah           457\n",
       "Katni             448\n",
       "Karaikudi         431\n",
       "Name: city, Length: 316, dtype: int64"
      ]
     },
     "execution_count": 25,
     "metadata": {},
     "output_type": "execute_result"
    }
   ],
   "source": [
    "train.city.value_counts()"
   ]
  },
  {
   "cell_type": "code",
   "execution_count": 26,
   "metadata": {},
   "outputs": [
    {
     "data": {
      "text/plain": [
       "Uttar_Pradesh        28400\n",
       "Maharashtra          25562\n",
       "Andhra_Pradesh       25297\n",
       "West_Bengal          23483\n",
       "Bihar                19780\n",
       "Tamil_Nadu           16537\n",
       "Madhya_Pradesh       14122\n",
       "Karnataka            11855\n",
       "Gujarat              11408\n",
       "Rajasthan             9174\n",
       "Jharkhand             8965\n",
       "Haryana               7890\n",
       "Telangana             7524\n",
       "Assam                 7062\n",
       "Kerala                5805\n",
       "Delhi                 5490\n",
       "Punjab                4720\n",
       "Odisha                4658\n",
       "Chhattisgarh          3834\n",
       "Uttarakhand           1874\n",
       "Jammu_and_Kashmir     1780\n",
       "Puducherry            1433\n",
       "Manipur                849\n",
       "Mizoram                849\n",
       "Himachal_Pradesh       833\n",
       "Tripura                809\n",
       "Uttar_Pradesh[5]       743\n",
       "Chandigarh             656\n",
       "Sikkim                 608\n",
       "Name: state, dtype: int64"
      ]
     },
     "execution_count": 26,
     "metadata": {},
     "output_type": "execute_result"
    }
   ],
   "source": [
    "train.state.value_counts()"
   ]
  },
  {
   "cell_type": "code",
   "execution_count": 27,
   "metadata": {},
   "outputs": [],
   "source": [
    "train['state_city'] = train.state + '_' + train.city # make new column"
   ]
  },
  {
   "cell_type": "code",
   "execution_count": 28,
   "metadata": {},
   "outputs": [
    {
     "data": {
      "text/plain": [
       "Andhra_Pradesh_Vijayanagaram    1259\n",
       "Madhya_Pradesh_Bhopal           1208\n",
       "Uttar_Pradesh_Bulandshahr       1185\n",
       "Bihar_Saharsa                   1180\n",
       "Andhra_Pradesh_Vijayawada       1172\n",
       "                                ... \n",
       "Madhya_Pradesh_Ujjain            486\n",
       "Telangana_Warangal               459\n",
       "Bihar_Bettiah                    457\n",
       "Madhya_Pradesh_Katni             448\n",
       "Tamil_Nadu_Karaikudi             431\n",
       "Name: state_city, Length: 317, dtype: int64"
      ]
     },
     "execution_count": 28,
     "metadata": {},
     "output_type": "execute_result"
    }
   ],
   "source": [
    "train.state_city.value_counts() # now we merged 2 column into 1"
   ]
  },
  {
   "cell_type": "code",
   "execution_count": 29,
   "metadata": {},
   "outputs": [
    {
     "data": {
      "text/html": [
       "<div>\n",
       "<style scoped>\n",
       "    .dataframe tbody tr th:only-of-type {\n",
       "        vertical-align: middle;\n",
       "    }\n",
       "\n",
       "    .dataframe tbody tr th {\n",
       "        vertical-align: top;\n",
       "    }\n",
       "\n",
       "    .dataframe thead th {\n",
       "        text-align: right;\n",
       "    }\n",
       "</style>\n",
       "<table border=\"1\" class=\"dataframe\">\n",
       "  <thead>\n",
       "    <tr style=\"text-align: right;\">\n",
       "      <th></th>\n",
       "      <th>income</th>\n",
       "      <th>age</th>\n",
       "      <th>experience</th>\n",
       "      <th>married</th>\n",
       "      <th>house_ownership</th>\n",
       "      <th>car_ownership</th>\n",
       "      <th>profession</th>\n",
       "      <th>city</th>\n",
       "      <th>state</th>\n",
       "      <th>current_job_years</th>\n",
       "      <th>current_house_years</th>\n",
       "      <th>risk_flag</th>\n",
       "      <th>state_city</th>\n",
       "    </tr>\n",
       "  </thead>\n",
       "  <tbody>\n",
       "    <tr>\n",
       "      <th>0</th>\n",
       "      <td>1303835</td>\n",
       "      <td>23</td>\n",
       "      <td>3</td>\n",
       "      <td>0</td>\n",
       "      <td>1</td>\n",
       "      <td>0</td>\n",
       "      <td>Mechanical_engineer</td>\n",
       "      <td>Rewa</td>\n",
       "      <td>Madhya_Pradesh</td>\n",
       "      <td>3</td>\n",
       "      <td>13</td>\n",
       "      <td>0</td>\n",
       "      <td>Madhya_Pradesh_Rewa</td>\n",
       "    </tr>\n",
       "    <tr>\n",
       "      <th>1</th>\n",
       "      <td>7574516</td>\n",
       "      <td>40</td>\n",
       "      <td>10</td>\n",
       "      <td>0</td>\n",
       "      <td>1</td>\n",
       "      <td>0</td>\n",
       "      <td>Software_Developer</td>\n",
       "      <td>Parbhani</td>\n",
       "      <td>Maharashtra</td>\n",
       "      <td>9</td>\n",
       "      <td>13</td>\n",
       "      <td>0</td>\n",
       "      <td>Maharashtra_Parbhani</td>\n",
       "    </tr>\n",
       "    <tr>\n",
       "      <th>2</th>\n",
       "      <td>3991815</td>\n",
       "      <td>66</td>\n",
       "      <td>4</td>\n",
       "      <td>1</td>\n",
       "      <td>1</td>\n",
       "      <td>0</td>\n",
       "      <td>Technical_writer</td>\n",
       "      <td>Alappuzha</td>\n",
       "      <td>Kerala</td>\n",
       "      <td>4</td>\n",
       "      <td>10</td>\n",
       "      <td>0</td>\n",
       "      <td>Kerala_Alappuzha</td>\n",
       "    </tr>\n",
       "    <tr>\n",
       "      <th>3</th>\n",
       "      <td>6256451</td>\n",
       "      <td>41</td>\n",
       "      <td>2</td>\n",
       "      <td>0</td>\n",
       "      <td>1</td>\n",
       "      <td>1</td>\n",
       "      <td>Software_Developer</td>\n",
       "      <td>Bhubaneswar</td>\n",
       "      <td>Odisha</td>\n",
       "      <td>2</td>\n",
       "      <td>12</td>\n",
       "      <td>1</td>\n",
       "      <td>Odisha_Bhubaneswar</td>\n",
       "    </tr>\n",
       "    <tr>\n",
       "      <th>4</th>\n",
       "      <td>5768871</td>\n",
       "      <td>47</td>\n",
       "      <td>11</td>\n",
       "      <td>0</td>\n",
       "      <td>1</td>\n",
       "      <td>0</td>\n",
       "      <td>Civil_servant</td>\n",
       "      <td>Tiruchirappalli</td>\n",
       "      <td>Tamil_Nadu</td>\n",
       "      <td>3</td>\n",
       "      <td>14</td>\n",
       "      <td>1</td>\n",
       "      <td>Tamil_Nadu_Tiruchirappalli</td>\n",
       "    </tr>\n",
       "    <tr>\n",
       "      <th>...</th>\n",
       "      <td>...</td>\n",
       "      <td>...</td>\n",
       "      <td>...</td>\n",
       "      <td>...</td>\n",
       "      <td>...</td>\n",
       "      <td>...</td>\n",
       "      <td>...</td>\n",
       "      <td>...</td>\n",
       "      <td>...</td>\n",
       "      <td>...</td>\n",
       "      <td>...</td>\n",
       "      <td>...</td>\n",
       "      <td>...</td>\n",
       "    </tr>\n",
       "    <tr>\n",
       "      <th>251995</th>\n",
       "      <td>8154883</td>\n",
       "      <td>43</td>\n",
       "      <td>13</td>\n",
       "      <td>0</td>\n",
       "      <td>1</td>\n",
       "      <td>0</td>\n",
       "      <td>Surgeon</td>\n",
       "      <td>Kolkata</td>\n",
       "      <td>West_Bengal</td>\n",
       "      <td>6</td>\n",
       "      <td>11</td>\n",
       "      <td>0</td>\n",
       "      <td>West_Bengal_Kolkata</td>\n",
       "    </tr>\n",
       "    <tr>\n",
       "      <th>251996</th>\n",
       "      <td>2843572</td>\n",
       "      <td>26</td>\n",
       "      <td>10</td>\n",
       "      <td>0</td>\n",
       "      <td>1</td>\n",
       "      <td>0</td>\n",
       "      <td>Army_officer</td>\n",
       "      <td>Rewa</td>\n",
       "      <td>Madhya_Pradesh</td>\n",
       "      <td>6</td>\n",
       "      <td>11</td>\n",
       "      <td>0</td>\n",
       "      <td>Madhya_Pradesh_Rewa</td>\n",
       "    </tr>\n",
       "    <tr>\n",
       "      <th>251997</th>\n",
       "      <td>4522448</td>\n",
       "      <td>46</td>\n",
       "      <td>7</td>\n",
       "      <td>0</td>\n",
       "      <td>1</td>\n",
       "      <td>0</td>\n",
       "      <td>Design_Engineer</td>\n",
       "      <td>Kalyan-Dombivli</td>\n",
       "      <td>Maharashtra</td>\n",
       "      <td>7</td>\n",
       "      <td>12</td>\n",
       "      <td>0</td>\n",
       "      <td>Maharashtra_Kalyan-Dombivli</td>\n",
       "    </tr>\n",
       "    <tr>\n",
       "      <th>251998</th>\n",
       "      <td>6507128</td>\n",
       "      <td>45</td>\n",
       "      <td>0</td>\n",
       "      <td>0</td>\n",
       "      <td>1</td>\n",
       "      <td>0</td>\n",
       "      <td>Graphic_Designer</td>\n",
       "      <td>Pondicherry</td>\n",
       "      <td>Puducherry</td>\n",
       "      <td>0</td>\n",
       "      <td>10</td>\n",
       "      <td>0</td>\n",
       "      <td>Puducherry_Pondicherry</td>\n",
       "    </tr>\n",
       "    <tr>\n",
       "      <th>251999</th>\n",
       "      <td>9070230</td>\n",
       "      <td>70</td>\n",
       "      <td>17</td>\n",
       "      <td>0</td>\n",
       "      <td>1</td>\n",
       "      <td>0</td>\n",
       "      <td>Statistician</td>\n",
       "      <td>Avadi</td>\n",
       "      <td>Tamil_Nadu</td>\n",
       "      <td>7</td>\n",
       "      <td>11</td>\n",
       "      <td>0</td>\n",
       "      <td>Tamil_Nadu_Avadi</td>\n",
       "    </tr>\n",
       "  </tbody>\n",
       "</table>\n",
       "<p>252000 rows × 13 columns</p>\n",
       "</div>"
      ],
      "text/plain": [
       "         income  age  experience  married  house_ownership  car_ownership  \\\n",
       "0       1303835   23           3        0                1              0   \n",
       "1       7574516   40          10        0                1              0   \n",
       "2       3991815   66           4        1                1              0   \n",
       "3       6256451   41           2        0                1              1   \n",
       "4       5768871   47          11        0                1              0   \n",
       "...         ...  ...         ...      ...              ...            ...   \n",
       "251995  8154883   43          13        0                1              0   \n",
       "251996  2843572   26          10        0                1              0   \n",
       "251997  4522448   46           7        0                1              0   \n",
       "251998  6507128   45           0        0                1              0   \n",
       "251999  9070230   70          17        0                1              0   \n",
       "\n",
       "                 profession             city           state  \\\n",
       "0       Mechanical_engineer             Rewa  Madhya_Pradesh   \n",
       "1        Software_Developer         Parbhani     Maharashtra   \n",
       "2          Technical_writer        Alappuzha          Kerala   \n",
       "3        Software_Developer      Bhubaneswar          Odisha   \n",
       "4             Civil_servant  Tiruchirappalli      Tamil_Nadu   \n",
       "...                     ...              ...             ...   \n",
       "251995              Surgeon          Kolkata     West_Bengal   \n",
       "251996         Army_officer             Rewa  Madhya_Pradesh   \n",
       "251997      Design_Engineer  Kalyan-Dombivli     Maharashtra   \n",
       "251998     Graphic_Designer      Pondicherry      Puducherry   \n",
       "251999         Statistician            Avadi      Tamil_Nadu   \n",
       "\n",
       "        current_job_years  current_house_years  risk_flag  \\\n",
       "0                       3                   13          0   \n",
       "1                       9                   13          0   \n",
       "2                       4                   10          0   \n",
       "3                       2                   12          1   \n",
       "4                       3                   14          1   \n",
       "...                   ...                  ...        ...   \n",
       "251995                  6                   11          0   \n",
       "251996                  6                   11          0   \n",
       "251997                  7                   12          0   \n",
       "251998                  0                   10          0   \n",
       "251999                  7                   11          0   \n",
       "\n",
       "                         state_city  \n",
       "0               Madhya_Pradesh_Rewa  \n",
       "1              Maharashtra_Parbhani  \n",
       "2                  Kerala_Alappuzha  \n",
       "3                Odisha_Bhubaneswar  \n",
       "4        Tamil_Nadu_Tiruchirappalli  \n",
       "...                             ...  \n",
       "251995          West_Bengal_Kolkata  \n",
       "251996          Madhya_Pradesh_Rewa  \n",
       "251997  Maharashtra_Kalyan-Dombivli  \n",
       "251998       Puducherry_Pondicherry  \n",
       "251999             Tamil_Nadu_Avadi  \n",
       "\n",
       "[252000 rows x 13 columns]"
      ]
     },
     "execution_count": 29,
     "metadata": {},
     "output_type": "execute_result"
    }
   ],
   "source": [
    "train"
   ]
  },
  {
   "cell_type": "code",
   "execution_count": 30,
   "metadata": {},
   "outputs": [],
   "source": [
    "train.drop(columns={'city', 'state', 'profession', 'state_city'}, inplace=True) \n",
    "# in the end we decided that we don't need this columns"
   ]
  },
  {
   "cell_type": "code",
   "execution_count": 31,
   "metadata": {
    "scrolled": true
   },
   "outputs": [
    {
     "data": {
      "text/html": [
       "<div>\n",
       "<style scoped>\n",
       "    .dataframe tbody tr th:only-of-type {\n",
       "        vertical-align: middle;\n",
       "    }\n",
       "\n",
       "    .dataframe tbody tr th {\n",
       "        vertical-align: top;\n",
       "    }\n",
       "\n",
       "    .dataframe thead th {\n",
       "        text-align: right;\n",
       "    }\n",
       "</style>\n",
       "<table border=\"1\" class=\"dataframe\">\n",
       "  <thead>\n",
       "    <tr style=\"text-align: right;\">\n",
       "      <th></th>\n",
       "      <th>income</th>\n",
       "      <th>age</th>\n",
       "      <th>experience</th>\n",
       "      <th>married</th>\n",
       "      <th>house_ownership</th>\n",
       "      <th>car_ownership</th>\n",
       "      <th>current_job_years</th>\n",
       "      <th>current_house_years</th>\n",
       "      <th>risk_flag</th>\n",
       "    </tr>\n",
       "  </thead>\n",
       "  <tbody>\n",
       "    <tr>\n",
       "      <th>0</th>\n",
       "      <td>1303835</td>\n",
       "      <td>23</td>\n",
       "      <td>3</td>\n",
       "      <td>0</td>\n",
       "      <td>1</td>\n",
       "      <td>0</td>\n",
       "      <td>3</td>\n",
       "      <td>13</td>\n",
       "      <td>0</td>\n",
       "    </tr>\n",
       "    <tr>\n",
       "      <th>1</th>\n",
       "      <td>7574516</td>\n",
       "      <td>40</td>\n",
       "      <td>10</td>\n",
       "      <td>0</td>\n",
       "      <td>1</td>\n",
       "      <td>0</td>\n",
       "      <td>9</td>\n",
       "      <td>13</td>\n",
       "      <td>0</td>\n",
       "    </tr>\n",
       "    <tr>\n",
       "      <th>2</th>\n",
       "      <td>3991815</td>\n",
       "      <td>66</td>\n",
       "      <td>4</td>\n",
       "      <td>1</td>\n",
       "      <td>1</td>\n",
       "      <td>0</td>\n",
       "      <td>4</td>\n",
       "      <td>10</td>\n",
       "      <td>0</td>\n",
       "    </tr>\n",
       "    <tr>\n",
       "      <th>3</th>\n",
       "      <td>6256451</td>\n",
       "      <td>41</td>\n",
       "      <td>2</td>\n",
       "      <td>0</td>\n",
       "      <td>1</td>\n",
       "      <td>1</td>\n",
       "      <td>2</td>\n",
       "      <td>12</td>\n",
       "      <td>1</td>\n",
       "    </tr>\n",
       "    <tr>\n",
       "      <th>4</th>\n",
       "      <td>5768871</td>\n",
       "      <td>47</td>\n",
       "      <td>11</td>\n",
       "      <td>0</td>\n",
       "      <td>1</td>\n",
       "      <td>0</td>\n",
       "      <td>3</td>\n",
       "      <td>14</td>\n",
       "      <td>1</td>\n",
       "    </tr>\n",
       "    <tr>\n",
       "      <th>...</th>\n",
       "      <td>...</td>\n",
       "      <td>...</td>\n",
       "      <td>...</td>\n",
       "      <td>...</td>\n",
       "      <td>...</td>\n",
       "      <td>...</td>\n",
       "      <td>...</td>\n",
       "      <td>...</td>\n",
       "      <td>...</td>\n",
       "    </tr>\n",
       "    <tr>\n",
       "      <th>251995</th>\n",
       "      <td>8154883</td>\n",
       "      <td>43</td>\n",
       "      <td>13</td>\n",
       "      <td>0</td>\n",
       "      <td>1</td>\n",
       "      <td>0</td>\n",
       "      <td>6</td>\n",
       "      <td>11</td>\n",
       "      <td>0</td>\n",
       "    </tr>\n",
       "    <tr>\n",
       "      <th>251996</th>\n",
       "      <td>2843572</td>\n",
       "      <td>26</td>\n",
       "      <td>10</td>\n",
       "      <td>0</td>\n",
       "      <td>1</td>\n",
       "      <td>0</td>\n",
       "      <td>6</td>\n",
       "      <td>11</td>\n",
       "      <td>0</td>\n",
       "    </tr>\n",
       "    <tr>\n",
       "      <th>251997</th>\n",
       "      <td>4522448</td>\n",
       "      <td>46</td>\n",
       "      <td>7</td>\n",
       "      <td>0</td>\n",
       "      <td>1</td>\n",
       "      <td>0</td>\n",
       "      <td>7</td>\n",
       "      <td>12</td>\n",
       "      <td>0</td>\n",
       "    </tr>\n",
       "    <tr>\n",
       "      <th>251998</th>\n",
       "      <td>6507128</td>\n",
       "      <td>45</td>\n",
       "      <td>0</td>\n",
       "      <td>0</td>\n",
       "      <td>1</td>\n",
       "      <td>0</td>\n",
       "      <td>0</td>\n",
       "      <td>10</td>\n",
       "      <td>0</td>\n",
       "    </tr>\n",
       "    <tr>\n",
       "      <th>251999</th>\n",
       "      <td>9070230</td>\n",
       "      <td>70</td>\n",
       "      <td>17</td>\n",
       "      <td>0</td>\n",
       "      <td>1</td>\n",
       "      <td>0</td>\n",
       "      <td>7</td>\n",
       "      <td>11</td>\n",
       "      <td>0</td>\n",
       "    </tr>\n",
       "  </tbody>\n",
       "</table>\n",
       "<p>252000 rows × 9 columns</p>\n",
       "</div>"
      ],
      "text/plain": [
       "         income  age  experience  married  house_ownership  car_ownership  \\\n",
       "0       1303835   23           3        0                1              0   \n",
       "1       7574516   40          10        0                1              0   \n",
       "2       3991815   66           4        1                1              0   \n",
       "3       6256451   41           2        0                1              1   \n",
       "4       5768871   47          11        0                1              0   \n",
       "...         ...  ...         ...      ...              ...            ...   \n",
       "251995  8154883   43          13        0                1              0   \n",
       "251996  2843572   26          10        0                1              0   \n",
       "251997  4522448   46           7        0                1              0   \n",
       "251998  6507128   45           0        0                1              0   \n",
       "251999  9070230   70          17        0                1              0   \n",
       "\n",
       "        current_job_years  current_house_years  risk_flag  \n",
       "0                       3                   13          0  \n",
       "1                       9                   13          0  \n",
       "2                       4                   10          0  \n",
       "3                       2                   12          1  \n",
       "4                       3                   14          1  \n",
       "...                   ...                  ...        ...  \n",
       "251995                  6                   11          0  \n",
       "251996                  6                   11          0  \n",
       "251997                  7                   12          0  \n",
       "251998                  0                   10          0  \n",
       "251999                  7                   11          0  \n",
       "\n",
       "[252000 rows x 9 columns]"
      ]
     },
     "execution_count": 31,
     "metadata": {},
     "output_type": "execute_result"
    }
   ],
   "source": [
    "train"
   ]
  },
  {
   "cell_type": "code",
   "execution_count": 76,
   "metadata": {
    "scrolled": false
   },
   "outputs": [
    {
     "data": {
      "text/html": [
       "<div>\n",
       "<style scoped>\n",
       "    .dataframe tbody tr th:only-of-type {\n",
       "        vertical-align: middle;\n",
       "    }\n",
       "\n",
       "    .dataframe tbody tr th {\n",
       "        vertical-align: top;\n",
       "    }\n",
       "\n",
       "    .dataframe thead th {\n",
       "        text-align: right;\n",
       "    }\n",
       "</style>\n",
       "<table border=\"1\" class=\"dataframe\">\n",
       "  <thead>\n",
       "    <tr style=\"text-align: right;\">\n",
       "      <th></th>\n",
       "      <th>count</th>\n",
       "      <th>mean</th>\n",
       "      <th>std</th>\n",
       "      <th>min</th>\n",
       "      <th>25%</th>\n",
       "      <th>50%</th>\n",
       "      <th>75%</th>\n",
       "      <th>max</th>\n",
       "    </tr>\n",
       "  </thead>\n",
       "  <tbody>\n",
       "    <tr>\n",
       "      <th>income</th>\n",
       "      <td>252000.0</td>\n",
       "      <td>0.50</td>\n",
       "      <td>0.29</td>\n",
       "      <td>0.0</td>\n",
       "      <td>0.25</td>\n",
       "      <td>0.50</td>\n",
       "      <td>0.75</td>\n",
       "      <td>1.0</td>\n",
       "    </tr>\n",
       "    <tr>\n",
       "      <th>age</th>\n",
       "      <td>252000.0</td>\n",
       "      <td>0.50</td>\n",
       "      <td>0.29</td>\n",
       "      <td>0.0</td>\n",
       "      <td>0.24</td>\n",
       "      <td>0.50</td>\n",
       "      <td>0.76</td>\n",
       "      <td>1.0</td>\n",
       "    </tr>\n",
       "    <tr>\n",
       "      <th>experience</th>\n",
       "      <td>252000.0</td>\n",
       "      <td>0.50</td>\n",
       "      <td>0.30</td>\n",
       "      <td>0.0</td>\n",
       "      <td>0.25</td>\n",
       "      <td>0.50</td>\n",
       "      <td>0.75</td>\n",
       "      <td>1.0</td>\n",
       "    </tr>\n",
       "    <tr>\n",
       "      <th>current_job_years</th>\n",
       "      <td>252000.0</td>\n",
       "      <td>0.45</td>\n",
       "      <td>0.26</td>\n",
       "      <td>0.0</td>\n",
       "      <td>0.21</td>\n",
       "      <td>0.43</td>\n",
       "      <td>0.64</td>\n",
       "      <td>1.0</td>\n",
       "    </tr>\n",
       "    <tr>\n",
       "      <th>current_house_years</th>\n",
       "      <td>252000.0</td>\n",
       "      <td>0.50</td>\n",
       "      <td>0.35</td>\n",
       "      <td>0.0</td>\n",
       "      <td>0.25</td>\n",
       "      <td>0.50</td>\n",
       "      <td>0.75</td>\n",
       "      <td>1.0</td>\n",
       "    </tr>\n",
       "  </tbody>\n",
       "</table>\n",
       "</div>"
      ],
      "text/plain": [
       "                        count  mean   std  min   25%   50%   75%  max\n",
       "income               252000.0  0.50  0.29  0.0  0.25  0.50  0.75  1.0\n",
       "age                  252000.0  0.50  0.29  0.0  0.24  0.50  0.76  1.0\n",
       "experience           252000.0  0.50  0.30  0.0  0.25  0.50  0.75  1.0\n",
       "current_job_years    252000.0  0.45  0.26  0.0  0.21  0.43  0.64  1.0\n",
       "current_house_years  252000.0  0.50  0.35  0.0  0.25  0.50  0.75  1.0"
      ]
     },
     "execution_count": 76,
     "metadata": {},
     "output_type": "execute_result"
    }
   ],
   "source": [
    "train[['income', 'age', 'experience', 'current_job_years', 'current_house_years']].describe().T.round(2)\n",
    "# check for normal distribution of not hand made columns"
   ]
  },
  {
   "cell_type": "code",
   "execution_count": 33,
   "metadata": {
    "scrolled": true
   },
   "outputs": [
    {
     "data": {
      "image/png": "[encoded data removed]",
      "text/plain": [
       "<Figure size 432x288 with 1 Axes>"
      ]
     },
     "metadata": {
      "needs_background": "light"
     },
     "output_type": "display_data"
    }
   ],
   "source": [
    "plt.boxplot(train.income, vert=False)\n",
    "plt.title('Boxplot of income', size=16);"
   ]
  },
  {
   "cell_type": "code",
   "execution_count": 34,
   "metadata": {},
   "outputs": [],
   "source": [
    "from sklearn.preprocessing import MinMaxScaler\n",
    "mm = MinMaxScaler() # make min max scaling, from 0 to 1\n",
    "train[['income', 'age', 'experience', 'current_job_years', 'current_house_years']] = mm.fit_transform(train[['income', 'age', 'experience', 'current_job_years', 'current_house_years']].values)"
   ]
  },
  {
   "cell_type": "code",
   "execution_count": 35,
   "metadata": {},
   "outputs": [
    {
     "data": {
      "text/html": [
       "<div>\n",
       "<style scoped>\n",
       "    .dataframe tbody tr th:only-of-type {\n",
       "        vertical-align: middle;\n",
       "    }\n",
       "\n",
       "    .dataframe tbody tr th {\n",
       "        vertical-align: top;\n",
       "    }\n",
       "\n",
       "    .dataframe thead th {\n",
       "        text-align: right;\n",
       "    }\n",
       "</style>\n",
       "<table border=\"1\" class=\"dataframe\">\n",
       "  <thead>\n",
       "    <tr style=\"text-align: right;\">\n",
       "      <th></th>\n",
       "      <th>income</th>\n",
       "      <th>age</th>\n",
       "      <th>experience</th>\n",
       "      <th>married</th>\n",
       "      <th>house_ownership</th>\n",
       "      <th>car_ownership</th>\n",
       "      <th>current_job_years</th>\n",
       "      <th>current_house_years</th>\n",
       "      <th>risk_flag</th>\n",
       "    </tr>\n",
       "  </thead>\n",
       "  <tbody>\n",
       "    <tr>\n",
       "      <th>0</th>\n",
       "      <td>0.129487</td>\n",
       "      <td>0.034483</td>\n",
       "      <td>0.15</td>\n",
       "      <td>0</td>\n",
       "      <td>1</td>\n",
       "      <td>0</td>\n",
       "      <td>0.214286</td>\n",
       "      <td>0.75</td>\n",
       "      <td>0</td>\n",
       "    </tr>\n",
       "    <tr>\n",
       "      <th>1</th>\n",
       "      <td>0.757206</td>\n",
       "      <td>0.327586</td>\n",
       "      <td>0.50</td>\n",
       "      <td>0</td>\n",
       "      <td>1</td>\n",
       "      <td>0</td>\n",
       "      <td>0.642857</td>\n",
       "      <td>0.75</td>\n",
       "      <td>0</td>\n",
       "    </tr>\n",
       "    <tr>\n",
       "      <th>2</th>\n",
       "      <td>0.398564</td>\n",
       "      <td>0.775862</td>\n",
       "      <td>0.20</td>\n",
       "      <td>1</td>\n",
       "      <td>1</td>\n",
       "      <td>0</td>\n",
       "      <td>0.285714</td>\n",
       "      <td>0.00</td>\n",
       "      <td>0</td>\n",
       "    </tr>\n",
       "    <tr>\n",
       "      <th>3</th>\n",
       "      <td>0.625263</td>\n",
       "      <td>0.344828</td>\n",
       "      <td>0.10</td>\n",
       "      <td>0</td>\n",
       "      <td>1</td>\n",
       "      <td>1</td>\n",
       "      <td>0.142857</td>\n",
       "      <td>0.50</td>\n",
       "      <td>1</td>\n",
       "    </tr>\n",
       "    <tr>\n",
       "      <th>4</th>\n",
       "      <td>0.576454</td>\n",
       "      <td>0.448276</td>\n",
       "      <td>0.55</td>\n",
       "      <td>0</td>\n",
       "      <td>1</td>\n",
       "      <td>0</td>\n",
       "      <td>0.214286</td>\n",
       "      <td>1.00</td>\n",
       "      <td>1</td>\n",
       "    </tr>\n",
       "    <tr>\n",
       "      <th>...</th>\n",
       "      <td>...</td>\n",
       "      <td>...</td>\n",
       "      <td>...</td>\n",
       "      <td>...</td>\n",
       "      <td>...</td>\n",
       "      <td>...</td>\n",
       "      <td>...</td>\n",
       "      <td>...</td>\n",
       "      <td>...</td>\n",
       "    </tr>\n",
       "    <tr>\n",
       "      <th>251995</th>\n",
       "      <td>0.815303</td>\n",
       "      <td>0.379310</td>\n",
       "      <td>0.65</td>\n",
       "      <td>0</td>\n",
       "      <td>1</td>\n",
       "      <td>0</td>\n",
       "      <td>0.428571</td>\n",
       "      <td>0.25</td>\n",
       "      <td>0</td>\n",
       "    </tr>\n",
       "    <tr>\n",
       "      <th>251996</th>\n",
       "      <td>0.283620</td>\n",
       "      <td>0.086207</td>\n",
       "      <td>0.50</td>\n",
       "      <td>0</td>\n",
       "      <td>1</td>\n",
       "      <td>0</td>\n",
       "      <td>0.428571</td>\n",
       "      <td>0.25</td>\n",
       "      <td>0</td>\n",
       "    </tr>\n",
       "    <tr>\n",
       "      <th>251997</th>\n",
       "      <td>0.451682</td>\n",
       "      <td>0.431034</td>\n",
       "      <td>0.35</td>\n",
       "      <td>0</td>\n",
       "      <td>1</td>\n",
       "      <td>0</td>\n",
       "      <td>0.500000</td>\n",
       "      <td>0.50</td>\n",
       "      <td>0</td>\n",
       "    </tr>\n",
       "    <tr>\n",
       "      <th>251998</th>\n",
       "      <td>0.650356</td>\n",
       "      <td>0.413793</td>\n",
       "      <td>0.00</td>\n",
       "      <td>0</td>\n",
       "      <td>1</td>\n",
       "      <td>0</td>\n",
       "      <td>0.000000</td>\n",
       "      <td>0.00</td>\n",
       "      <td>0</td>\n",
       "    </tr>\n",
       "    <tr>\n",
       "      <th>251999</th>\n",
       "      <td>0.906933</td>\n",
       "      <td>0.844828</td>\n",
       "      <td>0.85</td>\n",
       "      <td>0</td>\n",
       "      <td>1</td>\n",
       "      <td>0</td>\n",
       "      <td>0.500000</td>\n",
       "      <td>0.25</td>\n",
       "      <td>0</td>\n",
       "    </tr>\n",
       "  </tbody>\n",
       "</table>\n",
       "<p>252000 rows × 9 columns</p>\n",
       "</div>"
      ],
      "text/plain": [
       "          income       age  experience  married  house_ownership  \\\n",
       "0       0.129487  0.034483        0.15        0                1   \n",
       "1       0.757206  0.327586        0.50        0                1   \n",
       "2       0.398564  0.775862        0.20        1                1   \n",
       "3       0.625263  0.344828        0.10        0                1   \n",
       "4       0.576454  0.448276        0.55        0                1   \n",
       "...          ...       ...         ...      ...              ...   \n",
       "251995  0.815303  0.379310        0.65        0                1   \n",
       "251996  0.283620  0.086207        0.50        0                1   \n",
       "251997  0.451682  0.431034        0.35        0                1   \n",
       "251998  0.650356  0.413793        0.00        0                1   \n",
       "251999  0.906933  0.844828        0.85        0                1   \n",
       "\n",
       "        car_ownership  current_job_years  current_house_years  risk_flag  \n",
       "0                   0           0.214286                 0.75          0  \n",
       "1                   0           0.642857                 0.75          0  \n",
       "2                   0           0.285714                 0.00          0  \n",
       "3                   1           0.142857                 0.50          1  \n",
       "4                   0           0.214286                 1.00          1  \n",
       "...               ...                ...                  ...        ...  \n",
       "251995              0           0.428571                 0.25          0  \n",
       "251996              0           0.428571                 0.25          0  \n",
       "251997              0           0.500000                 0.50          0  \n",
       "251998              0           0.000000                 0.00          0  \n",
       "251999              0           0.500000                 0.25          0  \n",
       "\n",
       "[252000 rows x 9 columns]"
      ]
     },
     "execution_count": 35,
     "metadata": {},
     "output_type": "execute_result"
    }
   ],
   "source": [
    "train"
   ]
  },
  {
   "cell_type": "code",
   "execution_count": 36,
   "metadata": {
    "scrolled": true
   },
   "outputs": [
    {
     "data": {
      "text/plain": [
       "risk_flag              1.000000\n",
       "income                -0.003091\n",
       "current_house_years   -0.004375\n",
       "house_ownership       -0.011171\n",
       "current_job_years     -0.016942\n",
       "married               -0.021092\n",
       "age                   -0.021809\n",
       "car_ownership         -0.024036\n",
       "experience            -0.034523\n",
       "Name: risk_flag, dtype: float64"
      ]
     },
     "execution_count": 36,
     "metadata": {},
     "output_type": "execute_result"
    }
   ],
   "source": [
    "train.corr()['risk_flag'].sort_values(ascending=False)\n",
    "# we have negative correlation, which means we should not expect too much"
   ]
  },
  {
   "cell_type": "code",
   "execution_count": 37,
   "metadata": {},
   "outputs": [],
   "source": [
    "from imblearn.pipeline import make_pipeline   \n",
    "from imblearn.over_sampling import ADASYN, SMOTE # libraries to use resampling functions to handle imbalancing"
   ]
  },
  {
   "cell_type": "code",
   "execution_count": 38,
   "metadata": {},
   "outputs": [],
   "source": [
    "X = train.drop(columns={'risk_flag'}) #identify X and y\n",
    "y = train.risk_flag"
   ]
  },
  {
   "cell_type": "code",
   "execution_count": 39,
   "metadata": {},
   "outputs": [],
   "source": [
    "from sklearn.linear_model import LogisticRegression as log # import models and scoring libraries\n",
    "from sklearn.tree import DecisionTreeClassifier as tree\n",
    "from sklearn.neighbors import KNeighborsClassifier as knn\n",
    "from sklearn.model_selection import train_test_split, cross_validate"
   ]
  },
  {
   "cell_type": "code",
   "execution_count": 40,
   "metadata": {},
   "outputs": [],
   "source": [
    "from sklearn.metrics import confusion_matrix, classification_report, roc_curve"
   ]
  },
  {
   "cell_type": "code",
   "execution_count": 41,
   "metadata": {},
   "outputs": [],
   "source": [
    "X_train, X_test, y_train, y_test = train_test_split(X, y, random_state=100) "
   ]
  },
  {
   "cell_type": "code",
   "execution_count": 42,
   "metadata": {},
   "outputs": [
    {
     "data": {
      "text/plain": [
       "(0    165781\n",
       " 1     23219\n",
       " Name: risk_flag, dtype: int64,\n",
       " 0    55223\n",
       " 1     7777\n",
       " Name: risk_flag, dtype: int64)"
      ]
     },
     "execution_count": 42,
     "metadata": {},
     "output_type": "execute_result"
    }
   ],
   "source": [
    "y_train.value_counts(), y_test.value_counts() # firstly just fitting"
   ]
  },
  {
   "cell_type": "code",
   "execution_count": 43,
   "metadata": {},
   "outputs": [],
   "source": [
    "tree = tree()\n",
    "log = log()\n",
    "knn = knn()"
   ]
  },
  {
   "cell_type": "code",
   "execution_count": 44,
   "metadata": {
    "scrolled": true
   },
   "outputs": [
    {
     "data": {
      "text/plain": [
       "KNeighborsClassifier()"
      ]
     },
     "execution_count": 44,
     "metadata": {},
     "output_type": "execute_result"
    }
   ],
   "source": [
    "tree.fit(X_train, y_train)\n",
    "log.fit(X_train, y_train)\n",
    "knn.fit(X_train, y_train)"
   ]
  },
  {
   "cell_type": "code",
   "execution_count": 45,
   "metadata": {},
   "outputs": [],
   "source": [
    "y_pred_tree = tree.predict(X_test)\n",
    "y_pred_log = log.predict(X_test)\n",
    "y_pred_knn = knn.predict(X_test)"
   ]
  },
  {
   "cell_type": "code",
   "execution_count": 46,
   "metadata": {},
   "outputs": [],
   "source": [
    "preds = [y_pred_tree, y_pred_log, y_pred_knn]"
   ]
  },
  {
   "cell_type": "code",
   "execution_count": 47,
   "metadata": {},
   "outputs": [
    {
     "name": "stdout",
     "output_type": "stream",
     "text": [
      "---------------------- Decision Tree ---------------------------\n",
      "              precision    recall  f1-score   support\n",
      "\n",
      "           0       0.94      0.93      0.93     55223\n",
      "           1       0.53      0.56      0.55      7777\n",
      "\n",
      "    accuracy                           0.88     63000\n",
      "   macro avg       0.73      0.75      0.74     63000\n",
      "weighted avg       0.89      0.88      0.89     63000\n",
      "\n",
      "---------------------- Logistic ---------------------------\n",
      "              precision    recall  f1-score   support\n",
      "\n",
      "           0       0.88      1.00      0.93     55223\n",
      "           1       0.00      0.00      0.00      7777\n",
      "\n",
      "    accuracy                           0.88     63000\n",
      "   macro avg       0.44      0.50      0.47     63000\n",
      "weighted avg       0.77      0.88      0.82     63000\n",
      "\n",
      "---------------------- KNN ---------------------------\n",
      "              precision    recall  f1-score   support\n",
      "\n",
      "           0       0.93      0.95      0.94     55223\n",
      "           1       0.56      0.50      0.53      7777\n",
      "\n",
      "    accuracy                           0.89     63000\n",
      "   macro avg       0.75      0.72      0.73     63000\n",
      "weighted avg       0.88      0.89      0.89     63000\n",
      "\n"
     ]
    },
    {
     "name": "stderr",
     "output_type": "stream",
     "text": [
      "C:\\ProgramData\\Anaconda3\\lib\\site-packages\\sklearn\\metrics\\_classification.py:1318: UndefinedMetricWarning: Precision and F-score are ill-defined and being set to 0.0 in labels with no predicted samples. Use `zero_division` parameter to control this behavior.\n",
      "  _warn_prf(average, modifier, msg_start, len(result))\n",
      "C:\\ProgramData\\Anaconda3\\lib\\site-packages\\sklearn\\metrics\\_classification.py:1318: UndefinedMetricWarning: Precision and F-score are ill-defined and being set to 0.0 in labels with no predicted samples. Use `zero_division` parameter to control this behavior.\n",
      "  _warn_prf(average, modifier, msg_start, len(result))\n",
      "C:\\ProgramData\\Anaconda3\\lib\\site-packages\\sklearn\\metrics\\_classification.py:1318: UndefinedMetricWarning: Precision and F-score are ill-defined and being set to 0.0 in labels with no predicted samples. Use `zero_division` parameter to control this behavior.\n",
      "  _warn_prf(average, modifier, msg_start, len(result))\n"
     ]
    }
   ],
   "source": [
    "models = ['Decision Tree', 'Logistic', 'KNN']\n",
    "for i, j in zip(preds, models):\n",
    "    print('----------------------', j, '---------------------------')\n",
    "    print(classification_report(y_test, i))"
   ]
  },
  {
   "cell_type": "code",
   "execution_count": 48,
   "metadata": {
    "scrolled": true
   },
   "outputs": [
    {
     "data": {
      "image/png": "[encoded data removed]",
      "text/plain": [
       "<Figure size 432x288 with 2 Axes>"
      ]
     },
     "metadata": {
      "needs_background": "light"
     },
     "output_type": "display_data"
    },
    {
     "data": {
      "image/png": "[encoded data removed]",
      "text/plain": [
       "<Figure size 432x288 with 2 Axes>"
      ]
     },
     "metadata": {
      "needs_background": "light"
     },
     "output_type": "display_data"
    },
    {
     "data": {
      "image/png": "[encoded data removed]",
      "text/plain": [
       "<Figure size 432x288 with 2 Axes>"
      ]
     },
     "metadata": {
      "needs_background": "light"
     },
     "output_type": "display_data"
    }
   ],
   "source": [
    "for i, j in zip(preds, models):\n",
    "    names = ['True Neg', 'False Pos', 'False Neg', 'True Pos']\n",
    "\n",
    "    cnt = ['{0:0.0f}'.format(i) for i in\n",
    "                confusion_matrix(y_test, i).flatten()]\n",
    "\n",
    "    labels = [f'{v1}\\n{v2}' for v1, v2 in\n",
    "          zip(names, cnt)]\n",
    "\n",
    "    labels = np.asarray(labels).reshape(2,2)\n",
    "    plt.figure()\n",
    "    sns.heatmap(confusion_matrix(y_test, i), annot=labels, fmt='', linewidths=.3, cmap=\"Blues\").set(title=j)"
   ]
  },
  {
   "cell_type": "code",
   "execution_count": 49,
   "metadata": {},
   "outputs": [],
   "source": [
    "y_prob_tree = tree.predict_proba(X_test)\n",
    "y_prob_log = log.predict_proba(X_test)\n",
    "y_prob_knn = knn.predict_proba(X_test)\n",
    "y_probs = [y_prob_tree[:, 1], y_prob_log[:, 1], y_prob_knn[:, 1]]"
   ]
  },
  {
   "cell_type": "code",
   "execution_count": 50,
   "metadata": {},
   "outputs": [
    {
     "name": "stdout",
     "output_type": "stream",
     "text": [
      "Best Threshold=0.045455, G-Mean=0.856\n"
     ]
    },
    {
     "data": {
      "image/png": "[encoded data removed]",
      "text/plain": [
       "<Figure size 432x288 with 1 Axes>"
      ]
     },
     "metadata": {
      "needs_background": "light"
     },
     "output_type": "display_data"
    },
    {
     "name": "stdout",
     "output_type": "stream",
     "text": [
      "Best Threshold=0.123258, G-Mean=0.535\n"
     ]
    },
    {
     "data": {
      "image/png": "[encoded data removed]",
      "text/plain": [
       "<Figure size 432x288 with 1 Axes>"
      ]
     },
     "metadata": {
      "needs_background": "light"
     },
     "output_type": "display_data"
    },
    {
     "name": "stdout",
     "output_type": "stream",
     "text": [
      "Best Threshold=0.200000, G-Mean=0.858\n"
     ]
    },
    {
     "data": {
      "image/png": "[encoded data removed]",
      "text/plain": [
       "<Figure size 432x288 with 1 Axes>"
      ]
     },
     "metadata": {
      "needs_background": "light"
     },
     "output_type": "display_data"
    }
   ],
   "source": [
    "for i, j in zip(y_probs, models):\n",
    "    fpr, tpr, thresholds = roc_curve(y_test, i)\n",
    "    gmeans = np.sqrt(tpr.flatten() * (1 - fpr.flatten()))\n",
    "\n",
    "    ix = np.argmax(gmeans)\n",
    "    print('Best Threshold=%f, G-Mean=%.3f' % (thresholds[ix], gmeans[ix]))\n",
    "\n",
    "    plt.plot([0,1], [0,1], linestyle='--', label='No Skill')\n",
    "    plt.plot(fpr, tpr, marker='.', label=j, color='red')\n",
    "    plt.scatter(fpr[ix], tpr[ix], marker='o', color='black', label='Best')\n",
    "    plt.xlabel('False Positive Rate')\n",
    "    plt.ylabel('True Positive Rate')\n",
    "    plt.legend()\n",
    "    plt.show()"
   ]
  },
  {
   "cell_type": "code",
   "execution_count": 51,
   "metadata": {},
   "outputs": [],
   "source": [
    "tree_pred = (y_probs[0] > 0.04).astype(bool)\n",
    "log_pred = (y_probs[1] > 0.12).astype(bool)\n",
    "knn_pred = (y_probs[2] > 0.2).astype(bool)\n",
    "probs = [tree_pred, log_pred, knn_pred]"
   ]
  },
  {
   "cell_type": "code",
   "execution_count": 52,
   "metadata": {
    "scrolled": true
   },
   "outputs": [
    {
     "name": "stdout",
     "output_type": "stream",
     "text": [
      "---------------------- Decision Tree ---------------------------\n",
      "              precision    recall  f1-score   support\n",
      "\n",
      "           0       0.97      0.89      0.93     55223\n",
      "           1       0.51      0.83      0.63      7777\n",
      "\n",
      "    accuracy                           0.88     63000\n",
      "   macro avg       0.74      0.86      0.78     63000\n",
      "weighted avg       0.92      0.88      0.89     63000\n",
      "\n",
      "---------------------- Logistic ---------------------------\n",
      "              precision    recall  f1-score   support\n",
      "\n",
      "           0       0.89      0.45      0.59     55223\n",
      "           1       0.14      0.62      0.22      7777\n",
      "\n",
      "    accuracy                           0.47     63000\n",
      "   macro avg       0.51      0.53      0.41     63000\n",
      "weighted avg       0.80      0.47      0.55     63000\n",
      "\n",
      "---------------------- KNN ---------------------------\n",
      "              precision    recall  f1-score   support\n",
      "\n",
      "           0       0.96      0.91      0.93     55223\n",
      "           1       0.52      0.71      0.60      7777\n",
      "\n",
      "    accuracy                           0.88     63000\n",
      "   macro avg       0.74      0.81      0.76     63000\n",
      "weighted avg       0.90      0.88      0.89     63000\n",
      "\n"
     ]
    }
   ],
   "source": [
    "for i, j in zip(probs, models):\n",
    "    print('----------------------', j, '---------------------------')\n",
    "    print(classification_report(y_test, i))"
   ]
  },
  {
   "cell_type": "markdown",
   "metadata": {},
   "source": [
    "# Using ADASYN"
   ]
  },
  {
   "cell_type": "code",
   "execution_count": 53,
   "metadata": {},
   "outputs": [],
   "source": [
    "ada = ADASYN() # use resampling method"
   ]
  },
  {
   "cell_type": "code",
   "execution_count": 54,
   "metadata": {},
   "outputs": [],
   "source": [
    "X_resampled, y_resampled = ada.fit_resample(X_train, y_train)"
   ]
  },
  {
   "cell_type": "code",
   "execution_count": 55,
   "metadata": {},
   "outputs": [
    {
     "data": {
      "text/plain": [
       "1    166240\n",
       "0    165781\n",
       "Name: risk_flag, dtype: int64"
      ]
     },
     "execution_count": 55,
     "metadata": {},
     "output_type": "execute_result"
    }
   ],
   "source": [
    "y_resampled.value_counts()"
   ]
  },
  {
   "cell_type": "code",
   "execution_count": 56,
   "metadata": {},
   "outputs": [
    {
     "data": {
      "text/plain": [
       "KNeighborsClassifier()"
      ]
     },
     "execution_count": 56,
     "metadata": {},
     "output_type": "execute_result"
    }
   ],
   "source": [
    "tree.fit(X_resampled, y_resampled)\n",
    "log.fit(X_resampled, y_resampled)\n",
    "knn.fit(X_resampled, y_resampled)"
   ]
  },
  {
   "cell_type": "code",
   "execution_count": 57,
   "metadata": {},
   "outputs": [],
   "source": [
    "y_pred_tree = tree.predict(X_test)\n",
    "y_pred_log = log.predict(X_test)\n",
    "y_pred_knn = knn.predict(X_test)"
   ]
  },
  {
   "cell_type": "code",
   "execution_count": 58,
   "metadata": {},
   "outputs": [],
   "source": [
    "models = ['Decision Tree', 'Logistic', 'KNN']\n",
    "preds = [y_pred_tree, y_pred_log, y_pred_knn]"
   ]
  },
  {
   "cell_type": "code",
   "execution_count": 59,
   "metadata": {},
   "outputs": [
    {
     "name": "stdout",
     "output_type": "stream",
     "text": [
      "---------------------- Decision Tree ---------------------------\n",
      "              precision    recall  f1-score   support\n",
      "\n",
      "           0       0.97      0.88      0.93     55223\n",
      "           1       0.50      0.83      0.62      7777\n",
      "\n",
      "    accuracy                           0.88     63000\n",
      "   macro avg       0.74      0.86      0.77     63000\n",
      "weighted avg       0.92      0.88      0.89     63000\n",
      "\n",
      "---------------------- Logistic ---------------------------\n",
      "              precision    recall  f1-score   support\n",
      "\n",
      "           0       0.89      0.42      0.57     55223\n",
      "           1       0.13      0.62      0.22      7777\n",
      "\n",
      "    accuracy                           0.45     63000\n",
      "   macro avg       0.51      0.52      0.39     63000\n",
      "weighted avg       0.79      0.45      0.53     63000\n",
      "\n",
      "---------------------- KNN ---------------------------\n",
      "              precision    recall  f1-score   support\n",
      "\n",
      "           0       0.94      0.90      0.92     55223\n",
      "           1       0.45      0.58      0.51      7777\n",
      "\n",
      "    accuracy                           0.86     63000\n",
      "   macro avg       0.69      0.74      0.71     63000\n",
      "weighted avg       0.88      0.86      0.87     63000\n",
      "\n"
     ]
    }
   ],
   "source": [
    "for i, j in zip(preds, models):\n",
    "    print('----------------------', j, '---------------------------')\n",
    "    print(classification_report(y_test, i))"
   ]
  },
  {
   "cell_type": "code",
   "execution_count": 60,
   "metadata": {
    "scrolled": true
   },
   "outputs": [
    {
     "data": {
      "image/png": "[encoded data removed]",
      "text/plain": [
       "<Figure size 432x288 with 2 Axes>"
      ]
     },
     "metadata": {
      "needs_background": "light"
     },
     "output_type": "display_data"
    },
    {
     "data": {
      "image/png": "[encoded data removed]",
      "text/plain": [
       "<Figure size 432x288 with 2 Axes>"
      ]
     },
     "metadata": {
      "needs_background": "light"
     },
     "output_type": "display_data"
    },
    {
     "data": {
      "image/png": "[encoded data removed]",
      "text/plain": [
       "<Figure size 432x288 with 2 Axes>"
      ]
     },
     "metadata": {
      "needs_background": "light"
     },
     "output_type": "display_data"
    }
   ],
   "source": [
    "for i, j in zip(preds, models):\n",
    "    names = ['True Neg', 'False Pos', 'False Neg', 'True Pos']\n",
    "\n",
    "    cnt = ['{0:0.0f}'.format(i) for i in\n",
    "                confusion_matrix(y_test, i).flatten()]\n",
    "\n",
    "    labels = [f'{v1}\\n{v2}' for v1, v2 in\n",
    "          zip(names, cnt)]\n",
    "\n",
    "    labels = np.asarray(labels).reshape(2,2)\n",
    "    plt.figure()\n",
    "    sns.heatmap(confusion_matrix(y_test, i), annot=labels, fmt='', linewidths=.3, cmap=\"Blues\").set(title=j)"
   ]
  },
  {
   "cell_type": "code",
   "execution_count": 61,
   "metadata": {},
   "outputs": [],
   "source": [
    "y_prob_tree = tree.predict_proba(X_test)\n",
    "y_prob_log = log.predict_proba(X_test)\n",
    "y_prob_knn = knn.predict_proba(X_test)\n",
    "y_probs = [y_prob_tree[:, 1], y_prob_log[:, 1], y_prob_knn[:, 1]]"
   ]
  },
  {
   "cell_type": "code",
   "execution_count": 62,
   "metadata": {},
   "outputs": [
    {
     "name": "stdout",
     "output_type": "stream",
     "text": [
      "Best Threshold=0.045455, G-Mean=0.858\n"
     ]
    },
    {
     "data": {
      "image/png": "[encoded data removed]",
      "text/plain": [
       "<Figure size 432x288 with 1 Axes>"
      ]
     },
     "metadata": {
      "needs_background": "light"
     },
     "output_type": "display_data"
    },
    {
     "name": "stdout",
     "output_type": "stream",
     "text": [
      "Best Threshold=0.505911, G-Mean=0.521\n"
     ]
    },
    {
     "data": {
      "image/png": "[encoded data removed]",
      "text/plain": [
       "<Figure size 432x288 with 1 Axes>"
      ]
     },
     "metadata": {
      "needs_background": "light"
     },
     "output_type": "display_data"
    },
    {
     "name": "stdout",
     "output_type": "stream",
     "text": [
      "Best Threshold=0.200000, G-Mean=0.863\n"
     ]
    },
    {
     "data": {
      "image/png": "[encoded data removed]",
      "text/plain": [
       "<Figure size 432x288 with 1 Axes>"
      ]
     },
     "metadata": {
      "needs_background": "light"
     },
     "output_type": "display_data"
    }
   ],
   "source": [
    "for i, j in zip(y_probs, models):\n",
    "    fpr, tpr, thresholds = roc_curve(y_test, i)\n",
    "    gmeans = np.sqrt(tpr.flatten() * (1 - fpr.flatten()))\n",
    "\n",
    "    ix = np.argmax(gmeans)\n",
    "    print('Best Threshold=%f, G-Mean=%.3f' % (thresholds[ix], gmeans[ix]))\n",
    "\n",
    "    plt.plot([0,1], [0,1], linestyle='--', label='No Skill')\n",
    "    plt.plot(fpr, tpr, marker='.', label=j, color='red')\n",
    "    plt.scatter(fpr[ix], tpr[ix], marker='o', color='black', label='Best')\n",
    "    plt.xlabel('False Positive Rate')\n",
    "    plt.ylabel('True Positive Rate')\n",
    "    plt.legend()\n",
    "    plt.show()"
   ]
  },
  {
   "cell_type": "code",
   "execution_count": 63,
   "metadata": {},
   "outputs": [],
   "source": [
    "tree_pred = (y_probs[0] >= 0.045455).astype(bool)\n",
    "log_pred = (y_probs[1] >= 0.505633).astype(bool)\n",
    "knn_pred = (y_probs[2] >= 0.2).astype(bool)\n",
    "probs = [tree_pred, log_pred, knn_pred]"
   ]
  },
  {
   "cell_type": "code",
   "execution_count": 64,
   "metadata": {},
   "outputs": [
    {
     "name": "stdout",
     "output_type": "stream",
     "text": [
      "---------------------- Decision Tree ---------------------------\n",
      "              precision    recall  f1-score   support\n",
      "\n",
      "           0       0.97      0.88      0.93     55223\n",
      "           1       0.50      0.84      0.62      7777\n",
      "\n",
      "    accuracy                           0.88     63000\n",
      "   macro avg       0.74      0.86      0.77     63000\n",
      "weighted avg       0.92      0.88      0.89     63000\n",
      "\n",
      "---------------------- Logistic ---------------------------\n",
      "              precision    recall  f1-score   support\n",
      "\n",
      "           0       0.88      0.51      0.65     55223\n",
      "           1       0.13      0.53      0.21      7777\n",
      "\n",
      "    accuracy                           0.51     63000\n",
      "   macro avg       0.51      0.52      0.43     63000\n",
      "weighted avg       0.79      0.51      0.59     63000\n",
      "\n",
      "---------------------- KNN ---------------------------\n",
      "              precision    recall  f1-score   support\n",
      "\n",
      "           0       0.98      0.84      0.91     55223\n",
      "           1       0.44      0.89      0.59      7777\n",
      "\n",
      "    accuracy                           0.85     63000\n",
      "   macro avg       0.71      0.86      0.75     63000\n",
      "weighted avg       0.91      0.85      0.87     63000\n",
      "\n"
     ]
    }
   ],
   "source": [
    "for i, j in zip(probs, models):\n",
    "    print('----------------------', j, '---------------------------')\n",
    "    print(classification_report(y_test, i))"
   ]
  },
  {
   "cell_type": "markdown",
   "metadata": {},
   "source": [
    "# Using SMOTE"
   ]
  },
  {
   "cell_type": "code",
   "execution_count": 65,
   "metadata": {
    "scrolled": true
   },
   "outputs": [
    {
     "data": {
      "text/plain": [
       "0    55223\n",
       "1     7777\n",
       "Name: risk_flag, dtype: int64"
      ]
     },
     "execution_count": 65,
     "metadata": {},
     "output_type": "execute_result"
    }
   ],
   "source": [
    "y_test.value_counts()"
   ]
  },
  {
   "cell_type": "code",
   "execution_count": 66,
   "metadata": {},
   "outputs": [],
   "source": [
    "X_resampled, y_resampled = SMOTE().fit_resample(X_train, y_train) # another resampling method"
   ]
  },
  {
   "cell_type": "code",
   "execution_count": 67,
   "metadata": {},
   "outputs": [
    {
     "data": {
      "text/plain": [
       "KNeighborsClassifier()"
      ]
     },
     "execution_count": 67,
     "metadata": {},
     "output_type": "execute_result"
    }
   ],
   "source": [
    "tree.fit(X_resampled, y_resampled)\n",
    "log.fit(X_resampled, y_resampled)\n",
    "knn.fit(X_resampled, y_resampled)"
   ]
  },
  {
   "cell_type": "code",
   "execution_count": 68,
   "metadata": {},
   "outputs": [],
   "source": [
    "y_pred_tree = tree.predict(X_test)\n",
    "y_pred_log = log.predict(X_test)\n",
    "y_pred_knn = knn.predict(X_test)"
   ]
  },
  {
   "cell_type": "code",
   "execution_count": 69,
   "metadata": {},
   "outputs": [],
   "source": [
    "models = ['Decision Tree', 'Logistic', 'KNN']\n",
    "preds = [y_pred_tree, y_pred_log, y_pred_knn]"
   ]
  },
  {
   "cell_type": "code",
   "execution_count": 70,
   "metadata": {},
   "outputs": [
    {
     "name": "stdout",
     "output_type": "stream",
     "text": [
      "---------------------- Decision Tree ---------------------------\n",
      "              precision    recall  f1-score   support\n",
      "\n",
      "           0       0.97      0.88      0.92     55223\n",
      "           1       0.50      0.84      0.62      7777\n",
      "\n",
      "    accuracy                           0.87     63000\n",
      "   macro avg       0.74      0.86      0.77     63000\n",
      "weighted avg       0.92      0.87      0.89     63000\n",
      "\n",
      "---------------------- Logistic ---------------------------\n",
      "              precision    recall  f1-score   support\n",
      "\n",
      "           0       0.89      0.51      0.65     55223\n",
      "           1       0.14      0.56      0.22      7777\n",
      "\n",
      "    accuracy                           0.51     63000\n",
      "   macro avg       0.51      0.53      0.43     63000\n",
      "weighted avg       0.80      0.51      0.59     63000\n",
      "\n",
      "---------------------- KNN ---------------------------\n",
      "              precision    recall  f1-score   support\n",
      "\n",
      "           0       0.94      0.90      0.92     55223\n",
      "           1       0.46      0.57      0.51      7777\n",
      "\n",
      "    accuracy                           0.86     63000\n",
      "   macro avg       0.70      0.74      0.71     63000\n",
      "weighted avg       0.88      0.86      0.87     63000\n",
      "\n"
     ]
    }
   ],
   "source": [
    "for i, j in zip(preds, models):\n",
    "    print('----------------------', j, '---------------------------')\n",
    "    print(classification_report(y_test, i))"
   ]
  },
  {
   "cell_type": "code",
   "execution_count": 71,
   "metadata": {},
   "outputs": [
    {
     "data": {
      "image/png": "[encoded data removed]",
      "text/plain": [
       "<Figure size 432x288 with 2 Axes>"
      ]
     },
     "metadata": {
      "needs_background": "light"
     },
     "output_type": "display_data"
    },
    {
     "data": {
      "image/png": "[encoded data removed]",
      "text/plain": [
       "<Figure size 432x288 with 2 Axes>"
      ]
     },
     "metadata": {
      "needs_background": "light"
     },
     "output_type": "display_data"
    },
    {
     "data": {
      "image/png": "[encoded data removed]",
      "text/plain": [
       "<Figure size 432x288 with 2 Axes>"
      ]
     },
     "metadata": {
      "needs_background": "light"
     },
     "output_type": "display_data"
    }
   ],
   "source": [
    "for i, j in zip(preds, models):\n",
    "    names = ['True Neg', 'False Pos', 'False Neg', 'True Pos']\n",
    "\n",
    "    cnt = ['{0:0.0f}'.format(i) for i in\n",
    "                confusion_matrix(y_test, i).flatten()]\n",
    "\n",
    "    labels = [f'{v1}\\n{v2}' for v1, v2 in\n",
    "          zip(names, cnt)]\n",
    "\n",
    "    labels = np.asarray(labels).reshape(2,2)\n",
    "    plt.figure()\n",
    "    sns.heatmap(confusion_matrix(y_test, i), annot=labels, fmt='', linewidths=.3, cmap=\"Blues\").set(title=j)"
   ]
  },
  {
   "cell_type": "code",
   "execution_count": 72,
   "metadata": {},
   "outputs": [],
   "source": [
    "y_prob_tree = tree.predict_proba(X_test)\n",
    "y_prob_log = log.predict_proba(X_test)\n",
    "y_prob_knn = knn.predict_proba(X_test)\n",
    "y_probs = [y_prob_tree[:, 1], y_prob_log[:, 1], y_prob_knn[:, 1]]"
   ]
  },
  {
   "cell_type": "code",
   "execution_count": 73,
   "metadata": {},
   "outputs": [
    {
     "name": "stdout",
     "output_type": "stream",
     "text": [
      "Best Threshold=0.045455, G-Mean=0.860\n"
     ]
    },
    {
     "data": {
      "image/png": "[encoded data removed]",
      "text/plain": [
       "<Figure size 432x288 with 1 Axes>"
      ]
     },
     "metadata": {
      "needs_background": "light"
     },
     "output_type": "display_data"
    },
    {
     "name": "stdout",
     "output_type": "stream",
     "text": [
      "Best Threshold=0.504377, G-Mean=0.535\n"
     ]
    },
    {
     "data": {
      "image/png": "[encoded data removed]",
      "text/plain": [
       "<Figure size 432x288 with 1 Axes>"
      ]
     },
     "metadata": {
      "needs_background": "light"
     },
     "output_type": "display_data"
    },
    {
     "name": "stdout",
     "output_type": "stream",
     "text": [
      "Best Threshold=0.200000, G-Mean=0.863\n"
     ]
    },
    {
     "data": {
      "image/png": "[encoded data removed]",
      "text/plain": [
       "<Figure size 432x288 with 1 Axes>"
      ]
     },
     "metadata": {
      "needs_background": "light"
     },
     "output_type": "display_data"
    }
   ],
   "source": [
    "for i, j in zip(y_probs, models):\n",
    "    fpr, tpr, thresholds = roc_curve(y_test, i)\n",
    "    gmeans = np.sqrt(tpr.flatten() * (1 - fpr.flatten()))\n",
    "\n",
    "    ix = np.argmax(gmeans)\n",
    "    print('Best Threshold=%f, G-Mean=%.3f' % (thresholds[ix], gmeans[ix]))\n",
    "\n",
    "    plt.plot([0,1], [0,1], linestyle='--', label='No Skill')\n",
    "    plt.plot(fpr, tpr, marker='.', label=j, color='red')\n",
    "    plt.scatter(fpr[ix], tpr[ix], marker='o', color='black', label='Best')\n",
    "    plt.xlabel('False Positive Rate')\n",
    "    plt.ylabel('True Positive Rate')\n",
    "    plt.legend()\n",
    "    plt.show()"
   ]
  },
  {
   "cell_type": "code",
   "execution_count": 74,
   "metadata": {},
   "outputs": [],
   "source": [
    "tree_pred = (y_probs[0] >= 0.045455).astype(bool)\n",
    "log_pred = (y_probs[1] >= 0.503179).astype(bool)\n",
    "knn_pred = (y_probs[2] >= 0.2).astype(bool)\n",
    "probs = [tree_pred, log_pred, knn_pred]"
   ]
  },
  {
   "cell_type": "code",
   "execution_count": 75,
   "metadata": {},
   "outputs": [
    {
     "name": "stdout",
     "output_type": "stream",
     "text": [
      "---------------------- Decision Tree ---------------------------\n",
      "              precision    recall  f1-score   support\n",
      "\n",
      "           0       0.98      0.88      0.92     55223\n",
      "           1       0.50      0.84      0.62      7777\n",
      "\n",
      "    accuracy                           0.87     63000\n",
      "   macro avg       0.74      0.86      0.77     63000\n",
      "weighted avg       0.92      0.87      0.89     63000\n",
      "\n",
      "---------------------- Logistic ---------------------------\n",
      "              precision    recall  f1-score   support\n",
      "\n",
      "           0       0.89      0.53      0.67     55223\n",
      "           1       0.14      0.53      0.22      7777\n",
      "\n",
      "    accuracy                           0.53     63000\n",
      "   macro avg       0.51      0.53      0.44     63000\n",
      "weighted avg       0.80      0.53      0.61     63000\n",
      "\n",
      "---------------------- KNN ---------------------------\n",
      "              precision    recall  f1-score   support\n",
      "\n",
      "           0       0.98      0.84      0.91     55223\n",
      "           1       0.44      0.88      0.59      7777\n",
      "\n",
      "    accuracy                           0.85     63000\n",
      "   macro avg       0.71      0.86      0.75     63000\n",
      "weighted avg       0.91      0.85      0.87     63000\n",
      "\n"
     ]
    }
   ],
   "source": [
    "for i, j in zip(probs, models):\n",
    "    print('----------------------', j, '---------------------------')\n",
    "    print(classification_report(y_test, i))"
   ]
  },
  {
   "cell_type": "markdown",
   "metadata": {},
   "source": [
    "# Conclusion"
   ]
  },
  {
   "cell_type": "markdown",
   "metadata": {},
   "source": [
    "In this project we used **ADASYN** and **SMOTE** resampling methods and compared each other and with without using anything. As result we understand that is we would'n use anything our model will be just a trash. Results of ADASYN and SMOTE was not as good as i expected, their precision and recall for minority class was less than **60%** in general, only Decision Trees recall was nearly **85%**.\n",
    "I think its because of negative correlation, none of features had positive correlation. So we can conclude that Decision tree is one of the best models, and I should stop using linear and logistic regressions"
   ]
  }
 ],
 "metadata": {
  "kernelspec": {
   "display_name": "Python 3",
   "language": "python",
   "name": "python3"
  },
  "language_info": {
   "codemirror_mode": {
    "name": "ipython",
    "version": 3
   },
   "file_extension": ".py",
   "mimetype": "text/x-python",
   "name": "python",
   "nbconvert_exporter": "python",
   "pygments_lexer": "ipython3",
   "version": "3.8.5"
  }
 },
 "nbformat": 4,
 "nbformat_minor": 4
}
